{
 "cells": [
  {
   "cell_type": "code",
   "execution_count": 1,
   "metadata": {},
   "outputs": [],
   "source": [
    "import sympy as sp\n",
    "import numpy as np\n",
    "from sympy import symbols\n",
    "sf = sp.SingularityFunction\n",
    "import matplotlib.pyplot as plt"
   ]
  },
  {
   "cell_type": "code",
   "execution_count": 2,
   "metadata": {},
   "outputs": [],
   "source": [
    "EI = symbols('EI')\n",
    "x = symbols('x')"
   ]
  },
  {
   "cell_type": "code",
   "execution_count": 3,
   "metadata": {},
   "outputs": [
    {
     "name": "stdout",
     "output_type": "stream",
     "text": [
      "Solution in the x-direction:\n"
     ]
    },
    {
     "data": {
      "text/plain": [
       "'dV/dx ='"
      ]
     },
     "metadata": {},
     "output_type": "display_data"
    },
    {
     "data": {
      "text/latex": [
       "$\\displaystyle - qx \\sin{\\left(\\theta \\right)} - qz \\cos{\\left(\\theta \\right)}$"
      ],
      "text/plain": [
       "-qx*sin(theta) - qz*cos(theta)"
      ]
     },
     "metadata": {},
     "output_type": "display_data"
    },
    {
     "data": {
      "text/plain": [
       "'dN/dx ='"
      ]
     },
     "metadata": {},
     "output_type": "display_data"
    },
    {
     "data": {
      "text/latex": [
       "$\\displaystyle - qx \\cos{\\left(\\theta \\right)} + qz \\sin{\\left(\\theta \\right)}$"
      ],
      "text/plain": [
       "-qx*cos(theta) + qz*sin(theta)"
      ]
     },
     "metadata": {},
     "output_type": "display_data"
    }
   ],
   "source": [
    "## het oplossen van differentiaal vergelijking\n",
    "\n",
    "## in x-richting\n",
    "\n",
    "# Define the symbols\n",
    "cv, cn, qx, qz, theta = sp.symbols('cv, cn, qx, qz, theta')  ## cv = dv/dx, cn = dn/dx\n",
    "\n",
    "# Define the equations\n",
    "eq1 = (qx) + (sp.sin(theta) * cv) + (sp.cos(theta) * cn)\n",
    "eq2 = (qz) + (sp.cos(theta) * cv) - (sp.sin(theta) * cn)\n",
    "\n",
    "# Solve the system of equations\n",
    "solution = sp.solve((eq1, eq2), (cv, cn))\n",
    "\n",
    "# Display the solution\n",
    "print(\"Solution in the x-direction:\")\n",
    "display(\"dV/dx =\", solution[cv])\n",
    "display(\"dN/dx =\", solution[cn])"
   ]
  },
  {
   "cell_type": "markdown",
   "metadata": {},
   "source": [
    "# Voorbeeld 1"
   ]
  },
  {
   "cell_type": "code",
   "execution_count": 4,
   "metadata": {},
   "outputs": [],
   "source": [
    "Cv, Cm, Cphi, Cw, Av, Bv, Ah, Cn, Cu = sp.symbols('Cv, Cm, Cphi, Cw, Av, Bv, Ah, Cn, Cu')\n",
    "\n",
    "# F, l en theta definiëren \n",
    "F = 10  ## KN\n",
    "l = 4   ## m\n",
    "theta = sp.atan(1/2) \n",
    "\n",
    "# qz en qx definiëren\n",
    "qz = -Av * sf(x, 0, -1) + F * sf(x, l/2, -1) - Bv * sf(x, l, -1)\n",
    "qx = Ah * sf(x, 0, -1)"
   ]
  },
  {
   "cell_type": "code",
   "execution_count": 5,
   "metadata": {},
   "outputs": [],
   "source": [
    "# V definiëren als een functie van x\n",
    "V = sp.integrate(-qx * sp.sin(theta), x) + sp.integrate(-qz * sp.cos(theta), x) + Cv\n",
    "# N definiëren als een functie van x\n",
    "N = sp.integrate(-qx * sp.cos(theta), x) + sp.integrate(qz * sp.sin(theta), x) + Cn"
   ]
  },
  {
   "cell_type": "code",
   "execution_count": 6,
   "metadata": {},
   "outputs": [],
   "source": [
    "# N definiëren als een functie van x\n",
    "M = sp.integrate(V/sp.cos(theta), x) + Cm\n",
    "\n",
    "# phi definiëren als een functie van x\n",
    "phi = sp.integrate(M, x) + Cphi\n",
    "\n",
    "# W definiëren als een functie van x\n",
    "W = sp.integrate(-phi, x) + Cw"
   ]
  },
  {
   "cell_type": "code",
   "execution_count": 7,
   "metadata": {},
   "outputs": [],
   "source": [
    "# u definiëren als een functie van x\n",
    "u = sp.integrate(N, x) + Cu"
   ]
  },
  {
   "cell_type": "code",
   "execution_count": 8,
   "metadata": {},
   "outputs": [
    {
     "data": {
      "text/plain": [
       "'V:'"
      ]
     },
     "metadata": {},
     "output_type": "display_data"
    },
    {
     "data": {
      "text/latex": [
       "$\\displaystyle - 0.447213595499958 Ah {\\left\\langle x \\right\\rangle}^{0} + 0.894427190999916 Av {\\left\\langle x \\right\\rangle}^{0} + 0.894427190999916 Bv {\\left\\langle x - 4 \\right\\rangle}^{0} + Cv - 8.94427190999916 {\\left\\langle x - 2.0 \\right\\rangle}^{0}$"
      ],
      "text/plain": [
       "-0.447213595499958*Ah*SingularityFunction(x, 0, 0) + 0.894427190999916*Av*SingularityFunction(x, 0, 0) + 0.894427190999916*Bv*SingularityFunction(x, 4, 0) + Cv - 8.94427190999916*SingularityFunction(x, 2.0, 0)"
      ]
     },
     "metadata": {},
     "output_type": "display_data"
    },
    {
     "data": {
      "text/plain": [
       "'M:'"
      ]
     },
     "metadata": {},
     "output_type": "display_data"
    },
    {
     "data": {
      "text/latex": [
       "$\\displaystyle - 0.5 Ah {\\left\\langle x \\right\\rangle}^{1} + 1.0 Av {\\left\\langle x \\right\\rangle}^{1} + 1.0 Bv {\\left\\langle x - 4 \\right\\rangle}^{1} + Cm + 1.11803398874989 Cv x - 10.0 {\\left\\langle x - 2.0 \\right\\rangle}^{1}$"
      ],
      "text/plain": [
       "-0.5*Ah*SingularityFunction(x, 0, 1) + 1.0*Av*SingularityFunction(x, 0, 1) + 1.0*Bv*SingularityFunction(x, 4, 1) + Cm + 1.11803398874989*Cv*x - 10.0*SingularityFunction(x, 2.0, 1)"
      ]
     },
     "metadata": {},
     "output_type": "display_data"
    },
    {
     "data": {
      "text/plain": [
       "'phi:'"
      ]
     },
     "metadata": {},
     "output_type": "display_data"
    },
    {
     "data": {
      "text/latex": [
       "$\\displaystyle - 0.25 Ah {\\left\\langle x \\right\\rangle}^{2} + 0.5 Av {\\left\\langle x \\right\\rangle}^{2} + 0.5 Bv {\\left\\langle x - 4 \\right\\rangle}^{2} + Cm x + Cphi + 0.559016994374947 Cv x^{2} - 5.0 {\\left\\langle x - 2.0 \\right\\rangle}^{2}$"
      ],
      "text/plain": [
       "-0.25*Ah*SingularityFunction(x, 0, 2) + 0.5*Av*SingularityFunction(x, 0, 2) + 0.5*Bv*SingularityFunction(x, 4, 2) + Cm*x + Cphi + 0.559016994374947*Cv*x**2 - 5.0*SingularityFunction(x, 2.0, 2)"
      ]
     },
     "metadata": {},
     "output_type": "display_data"
    },
    {
     "data": {
      "text/plain": [
       "'W:'"
      ]
     },
     "metadata": {},
     "output_type": "display_data"
    },
    {
     "data": {
      "text/latex": [
       "$\\displaystyle 0.0833333333333333 Ah {\\left\\langle x \\right\\rangle}^{3} - 0.166666666666667 Av {\\left\\langle x \\right\\rangle}^{3} - 0.166666666666667 Bv {\\left\\langle x - 4 \\right\\rangle}^{3} - \\frac{Cm x^{2}}{2} - Cphi x - 0.186338998124982 Cv x^{3} + Cw + 1.66666666666667 {\\left\\langle x - 2.0 \\right\\rangle}^{3}$"
      ],
      "text/plain": [
       "0.0833333333333333*Ah*SingularityFunction(x, 0, 3) - 0.166666666666667*Av*SingularityFunction(x, 0, 3) - 0.166666666666667*Bv*SingularityFunction(x, 4, 3) - Cm*x**2/2 - Cphi*x - 0.186338998124982*Cv*x**3 + Cw + 1.66666666666667*SingularityFunction(x, 2.0, 3)"
      ]
     },
     "metadata": {},
     "output_type": "display_data"
    },
    {
     "data": {
      "text/plain": [
       "'N:'"
      ]
     },
     "metadata": {},
     "output_type": "display_data"
    },
    {
     "data": {
      "text/latex": [
       "$\\displaystyle - 0.894427190999916 Ah {\\left\\langle x \\right\\rangle}^{0} - 0.447213595499958 Av {\\left\\langle x \\right\\rangle}^{0} - 0.447213595499958 Bv {\\left\\langle x - 4 \\right\\rangle}^{0} + Cn + 4.47213595499958 {\\left\\langle x - 2.0 \\right\\rangle}^{0}$"
      ],
      "text/plain": [
       "-0.894427190999916*Ah*SingularityFunction(x, 0, 0) - 0.447213595499958*Av*SingularityFunction(x, 0, 0) - 0.447213595499958*Bv*SingularityFunction(x, 4, 0) + Cn + 4.47213595499958*SingularityFunction(x, 2.0, 0)"
      ]
     },
     "metadata": {},
     "output_type": "display_data"
    },
    {
     "data": {
      "text/plain": [
       "'u:'"
      ]
     },
     "metadata": {},
     "output_type": "display_data"
    },
    {
     "data": {
      "text/latex": [
       "$\\displaystyle - 0.894427190999916 Ah {\\left\\langle x \\right\\rangle}^{1} - 0.447213595499958 Av {\\left\\langle x \\right\\rangle}^{1} - 0.447213595499958 Bv {\\left\\langle x - 4 \\right\\rangle}^{1} + Cn x + Cu + 4.47213595499958 {\\left\\langle x - 2.0 \\right\\rangle}^{1}$"
      ],
      "text/plain": [
       "-0.894427190999916*Ah*SingularityFunction(x, 0, 1) - 0.447213595499958*Av*SingularityFunction(x, 0, 1) - 0.447213595499958*Bv*SingularityFunction(x, 4, 1) + Cn*x + Cu + 4.47213595499958*SingularityFunction(x, 2.0, 1)"
      ]
     },
     "metadata": {},
     "output_type": "display_data"
    }
   ],
   "source": [
    "display(\"V:\", V)\n",
    "display(\"M:\", M)\n",
    "display(\"phi:\", phi)\n",
    "display(\"W:\", W)\n",
    "display(\"N:\", N)\n",
    "display(\"u:\", u)"
   ]
  },
  {
   "cell_type": "code",
   "execution_count": 9,
   "metadata": {},
   "outputs": [],
   "source": [
    "## Voorwarden\n",
    "\n",
    "eq1 = V.subs(x, -1)\n",
    "eq2 = V.subs(x, l+1) \n",
    "\n",
    "eq3 = M.subs(x, 0)\n",
    "eq4 = M.subs(x, l)\n",
    "\n",
    "eq5 = W.subs(x, l)\n",
    "eq6 = W.subs(x, 0)\n",
    "\n",
    "eq7 = N.subs(x, -1)\n",
    "eq8 = N.subs(x, l+1)\n",
    "\n",
    "eq9 = u.subs(x, 0)\n",
    "\n",
    "equations = [eq1 -0, eq2-0,eq3-0,eq4-0,eq5-0,eq6-0, eq7-0, eq8 -0, eq9 - 0]\n",
    "solutions = sp.solve(equations, (Cv, Cm, Cphi, Cw, Av, Bv, Ah, Cn, Cu))"
   ]
  },
  {
   "cell_type": "code",
   "execution_count": 10,
   "metadata": {},
   "outputs": [
    {
     "name": "stdout",
     "output_type": "stream",
     "text": [
      "{Cv: 0.0, Cm: 0.0, Cphi: -10.0000000000000, Cw: 0.0, Av: 5.00000000000000, Bv: 5.00000000000000, Ah: 0.0, Cn: 0.0, Cu: 0.0}\n"
     ]
    }
   ],
   "source": [
    "print(solutions)"
   ]
  },
  {
   "cell_type": "code",
   "execution_count": 11,
   "metadata": {},
   "outputs": [
    {
     "data": {
      "text/latex": [
       "$\\displaystyle 4.47213595499958$"
      ],
      "text/plain": [
       "4.47213595499958"
      ]
     },
     "execution_count": 11,
     "metadata": {},
     "output_type": "execute_result"
    }
   ],
   "source": [
    "l/sp.cos(theta)"
   ]
  },
  {
   "cell_type": "code",
   "execution_count": 12,
   "metadata": {},
   "outputs": [],
   "source": [
    "x_val = np.linspace(0, 4.47213595499958, 901)\n",
    "V_numpy = sp.lambdify(x,V.subs(solutions).rewrite(sp.Piecewise).simplify()) #substitute full solution, make python function of formula\n",
    "V_list = V_numpy(x_val)\n",
    "#print(V_list)"
   ]
  },
  {
   "cell_type": "code",
   "execution_count": 13,
   "metadata": {},
   "outputs": [
    {
     "data": {
      "image/png": "[encoded data removed]",
      "text/plain": [
       "<Figure size 720x360 with 1 Axes>"
      ]
     },
     "metadata": {
      "needs_background": "light"
     },
     "output_type": "display_data"
    }
   ],
   "source": [
    "fig = plt.figure(figsize=(10, 5))\n",
    "ax = fig.add_subplot(1, 1, 1)\n",
    "ax.set_xlim(0, 4.48)\n",
    "ax.set_ylim(-6, 10)\n",
    "\n",
    "ax.spines[\"left\"].set_position(\"zero\")\n",
    "ax.spines[\"right\"].set_visible(False)\n",
    "ax.spines[\"bottom\"].set_position(\"zero\")\n",
    "ax.spines[\"top\"].set_visible(False)\n",
    "\n",
    "\n",
    "ax.set_xlabel(\"$V-lijn$\")\n",
    "ax.xaxis.set_label_coords(0.53, 1.04)\n",
    "plt.gca()\n",
    "ax.plot(x_val/sp.cos(theta), np.array(V_list) , label='V-lijn')\n",
    "plt.savefig('V_lijnvoorbeeld1', dpi=450);"
   ]
  },
  {
   "cell_type": "code",
   "execution_count": 14,
   "metadata": {},
   "outputs": [],
   "source": [
    "x_val = np.linspace(0, l, 901)\n",
    "M_numpy = sp.lambdify(x,M.subs(solutions).rewrite(sp.Piecewise).simplify()) #substitute full solution, make python function of formula\n",
    "M_list = M_numpy(x_val)\n",
    "#print(M_list)"
   ]
  },
  {
   "cell_type": "code",
   "execution_count": 15,
   "metadata": {},
   "outputs": [
    {
     "data": {
      "image/png": "[encoded data removed]",
      "text/plain": [
       "<Figure size 720x360 with 1 Axes>"
      ]
     },
     "metadata": {
      "needs_background": "light"
     },
     "output_type": "display_data"
    }
   ],
   "source": [
    "fig = plt.figure(figsize=(10, 5))\n",
    "ax = fig.add_subplot(1, 1, 1)\n",
    "ax.set_xlim(0, 5)\n",
    "ax.set_ylim(-14, 10)\n",
    "\n",
    "ax.spines[\"left\"].set_position(\"zero\")\n",
    "ax.spines[\"right\"].set_visible(False)\n",
    "ax.spines[\"bottom\"].set_position(\"zero\")\n",
    "ax.spines[\"top\"].set_visible(False)\n",
    "\n",
    "\n",
    "ax.set_xlabel(\"$M-lijn$\")\n",
    "ax.xaxis.set_label_coords(0.53, 1.04)\n",
    "plt.gca()\n",
    "ax.plot(x_val/sp.cos(theta), - np.array(M_list) , label='M-lijn');\n",
    "plt.savefig('M_lijnvoorbeeld1', dpi=450);"
   ]
  },
  {
   "cell_type": "code",
   "execution_count": 16,
   "metadata": {},
   "outputs": [],
   "source": [
    "x_val = np.linspace(0, l, 901)\n",
    "phi_numpy = sp.lambdify(x,phi.subs(solutions).rewrite(sp.Piecewise).simplify()) #substitute full solution, make python function of formula\n",
    "phi_list = phi_numpy(x_val)"
   ]
  },
  {
   "cell_type": "code",
   "execution_count": 17,
   "metadata": {},
   "outputs": [
    {
     "data": {
      "image/png": "[encoded data removed]",
      "text/plain": [
       "<Figure size 720x360 with 1 Axes>"
      ]
     },
     "metadata": {
      "needs_background": "light"
     },
     "output_type": "display_data"
    }
   ],
   "source": [
    "fig = plt.figure(figsize=(10, 5))\n",
    "ax = fig.add_subplot(1, 1, 1)\n",
    "ax.set_xlim(0, 5)\n",
    "ax.set_ylim(-12, 12)\n",
    "\n",
    "ax.spines[\"left\"].set_position(\"zero\")\n",
    "ax.spines[\"right\"].set_visible(False)\n",
    "ax.spines[\"bottom\"].set_position(\"zero\")\n",
    "ax.spines[\"top\"].set_visible(False)\n",
    "\n",
    "\n",
    "ax.set_xlabel(\"$EI-lijn$\")\n",
    "ax.xaxis.set_label_coords(0.53, 1.04)\n",
    "plt.gca()\n",
    "ax.plot(x_val/sp.cos(theta), np.array(phi_list) , label='phi-lijn')\n",
    "plt.savefig('phi_lijnvoorbeeld1', dpi=450);"
   ]
  },
  {
   "cell_type": "code",
   "execution_count": 18,
   "metadata": {},
   "outputs": [],
   "source": [
    "x_val = np.linspace(0, l, 901)\n",
    "W_numpy = sp.lambdify(x,W.subs(solutions).rewrite(sp.Piecewise).simplify()) #substitute full solution, make python function of formula\n",
    "W_list = W_numpy(x_val)"
   ]
  },
  {
   "cell_type": "code",
   "execution_count": 19,
   "metadata": {},
   "outputs": [
    {
     "data": {
      "image/png": "[encoded data removed]",
      "text/plain": [
       "<Figure size 720x360 with 1 Axes>"
      ]
     },
     "metadata": {
      "needs_background": "light"
     },
     "output_type": "display_data"
    }
   ],
   "source": [
    "fig = plt.figure(figsize=(10, 5))\n",
    "ax = fig.add_subplot(1, 1, 1)\n",
    "ax.set_xlim(0, 5)\n",
    "ax.set_ylim(-15, 2)\n",
    "\n",
    "ax.spines[\"left\"].set_position(\"zero\")\n",
    "ax.spines[\"right\"].set_visible(False)\n",
    "ax.spines[\"bottom\"].set_position(\"zero\")\n",
    "ax.spines[\"top\"].set_visible(False)\n",
    "\n",
    "\n",
    "ax.set_xlabel(\"$w-lijn$\")\n",
    "ax.xaxis.set_label_coords(0.53, 1.04)\n",
    "plt.gca()\n",
    "ax.plot(x_val/sp.cos(theta), - np.array(W_list) , label='w-lijn')\n",
    "plt.savefig('w_lijnvoorbeeld1', dpi=450);"
   ]
  },
  {
   "cell_type": "code",
   "execution_count": 20,
   "metadata": {},
   "outputs": [],
   "source": [
    "x_val = np.linspace(0,  4.47213595499958, 901)\n",
    "N_numpy = sp.lambdify(x,N.subs(solutions).rewrite(sp.Piecewise).simplify()) #substitute full solution, make python function of formula\n",
    "N_list = N_numpy(x_val)"
   ]
  },
  {
   "cell_type": "code",
   "execution_count": 21,
   "metadata": {},
   "outputs": [
    {
     "data": {
      "image/png": "[encoded data removed]",
      "text/plain": [
       "<Figure size 720x360 with 1 Axes>"
      ]
     },
     "metadata": {
      "needs_background": "light"
     },
     "output_type": "display_data"
    }
   ],
   "source": [
    "fig = plt.figure(figsize=(10, 5))\n",
    "ax = fig.add_subplot(1, 1, 1)\n",
    "ax.set_xlim(0, 5)\n",
    "ax.set_ylim(4, -4)\n",
    "\n",
    "ax.spines[\"left\"].set_position(\"zero\")\n",
    "ax.spines[\"right\"].set_visible(False)\n",
    "ax.spines[\"bottom\"].set_position(\"zero\")\n",
    "ax.spines[\"top\"].set_visible(False)\n",
    "\n",
    "\n",
    "ax.set_xlabel(\"$N-lijn$\")\n",
    "ax.xaxis.set_label_coords(0.53, 1.04)\n",
    "plt.gca()\n",
    "ax.plot(x_val/sp.cos(theta),  np.array(N_list) , label='N-lijn')\n",
    "plt.savefig('N_lijnvoorbeeld1', dpi=450);"
   ]
  },
  {
   "cell_type": "code",
   "execution_count": 22,
   "metadata": {},
   "outputs": [],
   "source": [
    "x_val = np.linspace(0, l, 301)\n",
    "u_numpy = sp.lambdify(x,u.subs(solutions).rewrite(sp.Piecewise).simplify()) #substitute full solution, make python function of formula\n",
    "u_list = u_numpy(x_val)"
   ]
  },
  {
   "cell_type": "code",
   "execution_count": 23,
   "metadata": {},
   "outputs": [
    {
     "data": {
      "image/png": "[encoded data removed]",
      "text/plain": [
       "<Figure size 720x360 with 1 Axes>"
      ]
     },
     "metadata": {
      "needs_background": "light"
     },
     "output_type": "display_data"
    }
   ],
   "source": [
    "fig = plt.figure(figsize=(10, 5))\n",
    "ax = fig.add_subplot(1, 1, 1)\n",
    "ax.set_xlim(0, 5)\n",
    "ax.set_ylim(-6, 4)\n",
    "\n",
    "ax.spines[\"left\"].set_position(\"zero\")\n",
    "ax.spines[\"right\"].set_visible(False)\n",
    "ax.spines[\"bottom\"].set_position(\"zero\")\n",
    "ax.spines[\"top\"].set_visible(False)\n",
    "\n",
    "\n",
    "ax.set_xlabel(\"$u-lijn$\")\n",
    "ax.xaxis.set_label_coords(0.53, 1.04)\n",
    "plt.gca()\n",
    "ax.plot(x_val/sp.cos(theta),  np.array(u_list) , label='u-lijn');"
   ]
  },
  {
   "cell_type": "markdown",
   "metadata": {},
   "source": [
    "# Voorbeeld 2"
   ]
  },
  {
   "cell_type": "code",
   "execution_count": 24,
   "metadata": {},
   "outputs": [],
   "source": [
    "Cv, Cm, Cphi, Cw, Av, MA, Ah, Cn, Cu = sp.symbols('Cv, Cm, Cphi, Cw, Av, MA, Ah, Cn, Cu')\n",
    "\n",
    "# F, l en theta definiëren \n",
    "F = 10  ## KN\n",
    "l = 4   ## m\n",
    "theta = sp.atan(1/2) \n",
    "\n",
    "# qz en qx definiëren\n",
    "qz = -Av * sf(x, 0, -1) + MA * sf(x, 0, -2) + F * sf(x, l, -1)\n",
    "qx = Ah * sf(x, 0, -1) - F * sf(x, l, -1)"
   ]
  },
  {
   "cell_type": "code",
   "execution_count": 25,
   "metadata": {},
   "outputs": [],
   "source": [
    "# V definiëren als een functie van x\n",
    "V = sp.integrate(-qx * sp.sin(theta), x) + sp.integrate(-qz * sp.cos(theta), x) + Cv\n",
    "# N definiëren als een functie van x\n",
    "N = sp.integrate(-qx * sp.cos(theta), x) + sp.integrate(qz * sp.sin(theta), x) + Cn"
   ]
  },
  {
   "cell_type": "code",
   "execution_count": 26,
   "metadata": {},
   "outputs": [],
   "source": [
    "# N definiëren als een functie van x\n",
    "M = sp.integrate(V/sp.cos(theta), x) + Cm\n",
    "\n",
    "# phi definiëren als een functie van x\n",
    "phi = sp.integrate(M, x) + Cphi\n",
    "\n",
    "# W definiëren als een functie van x\n",
    "W = sp.integrate(-phi, x) + Cw"
   ]
  },
  {
   "cell_type": "code",
   "execution_count": 27,
   "metadata": {},
   "outputs": [],
   "source": [
    "# u definiëren als een functie van x\n",
    "u = sp.integrate(N, x) + Cu"
   ]
  },
  {
   "cell_type": "code",
   "execution_count": 28,
   "metadata": {},
   "outputs": [
    {
     "data": {
      "text/plain": [
       "'V:'"
      ]
     },
     "metadata": {},
     "output_type": "display_data"
    },
    {
     "data": {
      "text/latex": [
       "$\\displaystyle - 0.447213595499958 Ah {\\left\\langle x \\right\\rangle}^{0} + 0.894427190999916 Av {\\left\\langle x \\right\\rangle}^{0} + Cv - 0.894427190999916 MA {\\left\\langle x \\right\\rangle}^{-1} - 4.47213595499958 {\\left\\langle x - 4 \\right\\rangle}^{0}$"
      ],
      "text/plain": [
       "-0.447213595499958*Ah*SingularityFunction(x, 0, 0) + 0.894427190999916*Av*SingularityFunction(x, 0, 0) + Cv - 0.894427190999916*MA*SingularityFunction(x, 0, -1) - 4.47213595499958*SingularityFunction(x, 4, 0)"
      ]
     },
     "metadata": {},
     "output_type": "display_data"
    },
    {
     "data": {
      "text/plain": [
       "'M:'"
      ]
     },
     "metadata": {},
     "output_type": "display_data"
    },
    {
     "data": {
      "text/latex": [
       "$\\displaystyle - 0.5 Ah {\\left\\langle x \\right\\rangle}^{1} + 1.0 Av {\\left\\langle x \\right\\rangle}^{1} + Cm + 1.11803398874989 Cv x - 1.0 MA {\\left\\langle x \\right\\rangle}^{0} - 5.0 {\\left\\langle x - 4 \\right\\rangle}^{1}$"
      ],
      "text/plain": [
       "-0.5*Ah*SingularityFunction(x, 0, 1) + 1.0*Av*SingularityFunction(x, 0, 1) + Cm + 1.11803398874989*Cv*x - 1.0*MA*SingularityFunction(x, 0, 0) - 5.0*SingularityFunction(x, 4, 1)"
      ]
     },
     "metadata": {},
     "output_type": "display_data"
    },
    {
     "data": {
      "text/plain": [
       "'phi:'"
      ]
     },
     "metadata": {},
     "output_type": "display_data"
    },
    {
     "data": {
      "text/latex": [
       "$\\displaystyle - 0.25 Ah {\\left\\langle x \\right\\rangle}^{2} + 0.5 Av {\\left\\langle x \\right\\rangle}^{2} + Cm x + Cphi + 0.559016994374947 Cv x^{2} - 1.0 MA {\\left\\langle x \\right\\rangle}^{1} - 2.5 {\\left\\langle x - 4 \\right\\rangle}^{2}$"
      ],
      "text/plain": [
       "-0.25*Ah*SingularityFunction(x, 0, 2) + 0.5*Av*SingularityFunction(x, 0, 2) + Cm*x + Cphi + 0.559016994374947*Cv*x**2 - 1.0*MA*SingularityFunction(x, 0, 1) - 2.5*SingularityFunction(x, 4, 2)"
      ]
     },
     "metadata": {},
     "output_type": "display_data"
    },
    {
     "data": {
      "text/plain": [
       "'W:'"
      ]
     },
     "metadata": {},
     "output_type": "display_data"
    },
    {
     "data": {
      "text/latex": [
       "$\\displaystyle 0.0833333333333333 Ah {\\left\\langle x \\right\\rangle}^{3} - 0.166666666666667 Av {\\left\\langle x \\right\\rangle}^{3} - \\frac{Cm x^{2}}{2} - Cphi x - 0.186338998124982 Cv x^{3} + Cw + 0.5 MA {\\left\\langle x \\right\\rangle}^{2} + 0.833333333333333 {\\left\\langle x - 4 \\right\\rangle}^{3}$"
      ],
      "text/plain": [
       "0.0833333333333333*Ah*SingularityFunction(x, 0, 3) - 0.166666666666667*Av*SingularityFunction(x, 0, 3) - Cm*x**2/2 - Cphi*x - 0.186338998124982*Cv*x**3 + Cw + 0.5*MA*SingularityFunction(x, 0, 2) + 0.833333333333333*SingularityFunction(x, 4, 3)"
      ]
     },
     "metadata": {},
     "output_type": "display_data"
    },
    {
     "data": {
      "text/plain": [
       "'N:'"
      ]
     },
     "metadata": {},
     "output_type": "display_data"
    },
    {
     "data": {
      "text/latex": [
       "$\\displaystyle - 0.894427190999916 Ah {\\left\\langle x \\right\\rangle}^{0} - 0.447213595499958 Av {\\left\\langle x \\right\\rangle}^{0} + Cn + 0.447213595499958 MA {\\left\\langle x \\right\\rangle}^{-1} + 13.4164078649987 {\\left\\langle x - 4 \\right\\rangle}^{0}$"
      ],
      "text/plain": [
       "-0.894427190999916*Ah*SingularityFunction(x, 0, 0) - 0.447213595499958*Av*SingularityFunction(x, 0, 0) + Cn + 0.447213595499958*MA*SingularityFunction(x, 0, -1) + 13.4164078649987*SingularityFunction(x, 4, 0)"
      ]
     },
     "metadata": {},
     "output_type": "display_data"
    },
    {
     "data": {
      "text/plain": [
       "'u:'"
      ]
     },
     "metadata": {},
     "output_type": "display_data"
    },
    {
     "data": {
      "text/latex": [
       "$\\displaystyle - 0.894427190999916 Ah {\\left\\langle x \\right\\rangle}^{1} - 0.447213595499958 Av {\\left\\langle x \\right\\rangle}^{1} + Cn x + Cu + 0.447213595499958 MA {\\left\\langle x \\right\\rangle}^{0} + 13.4164078649987 {\\left\\langle x - 4 \\right\\rangle}^{1}$"
      ],
      "text/plain": [
       "-0.894427190999916*Ah*SingularityFunction(x, 0, 1) - 0.447213595499958*Av*SingularityFunction(x, 0, 1) + Cn*x + Cu + 0.447213595499958*MA*SingularityFunction(x, 0, 0) + 13.4164078649987*SingularityFunction(x, 4, 1)"
      ]
     },
     "metadata": {},
     "output_type": "display_data"
    }
   ],
   "source": [
    "display(\"V:\", V)\n",
    "display(\"M:\", M)\n",
    "display(\"phi:\", phi)\n",
    "display(\"W:\", W)\n",
    "display(\"N:\", N)\n",
    "display(\"u:\", u)"
   ]
  },
  {
   "cell_type": "code",
   "execution_count": 29,
   "metadata": {},
   "outputs": [],
   "source": [
    "## Voorwarden\n",
    "\n",
    "eq1 = V.subs(x, -1)\n",
    "eq2 = V.subs(x, l+0.1) \n",
    "\n",
    "eq3 = M.subs(x, -1)\n",
    "eq4 = M.subs(x, l)\n",
    "\n",
    "eq5 = phi.subs(x, 0)\n",
    "eq6 = W.subs(x, 0)\n",
    "\n",
    "eq7 = N.subs(x, -1)\n",
    "eq8 = N.subs(x, l+0.1)\n",
    "\n",
    "\n",
    "equations = [eq1 -0, eq2-0,eq3-0,eq4-0,eq5-0,eq6-0, eq7-0, eq8 -0]\n",
    "solutions = sp.solve(equations, (Cv, Cm, Cphi, Cw, Av, MA, Ah, Cn))"
   ]
  },
  {
   "cell_type": "code",
   "execution_count": 30,
   "metadata": {},
   "outputs": [
    {
     "name": "stdout",
     "output_type": "stream",
     "text": [
      "{Cv: 0.0, Cm: 0.0, Cphi: 0.0, Cw: 0.0, Av: 9.99999999999998, MA: 20.0000000000000, Ah: 9.99999999999996, Cn: 0.0}\n"
     ]
    }
   ],
   "source": [
    "print(solutions)"
   ]
  },
  {
   "cell_type": "markdown",
   "metadata": {},
   "source": [
    "V-lijn"
   ]
  },
  {
   "cell_type": "code",
   "execution_count": 31,
   "metadata": {},
   "outputs": [],
   "source": [
    "x_val = np.linspace(0, 4.47213595499958, 901)\n",
    "V_numpy = sp.lambdify(x,V.subs(solutions).rewrite(sp.Piecewise).simplify()) #substitute full solution, make python function of formula\n",
    "V_list = V_numpy(x_val)\n",
    "#print(V_list)"
   ]
  },
  {
   "cell_type": "code",
   "execution_count": 32,
   "metadata": {},
   "outputs": [
    {
     "data": {
      "image/png": "[encoded data removed]",
      "text/plain": [
       "<Figure size 720x360 with 1 Axes>"
      ]
     },
     "metadata": {
      "needs_background": "light"
     },
     "output_type": "display_data"
    }
   ],
   "source": [
    "fig = plt.figure(figsize=(10, 5))\n",
    "ax = fig.add_subplot(1, 1, 1)\n",
    "ax.set_xlim(0, 4.5)\n",
    "ax.set_ylim(0, 6)\n",
    "\n",
    "ax.spines[\"left\"].set_position(\"zero\")\n",
    "ax.spines[\"right\"].set_visible(False)\n",
    "ax.spines[\"bottom\"].set_position(\"zero\")\n",
    "ax.spines[\"top\"].set_visible(False)\n",
    "\n",
    "\n",
    "ax.set_xlabel(\"$V-lijn$\")\n",
    "ax.xaxis.set_label_coords(0.53, 1.04)\n",
    "plt.gca()\n",
    "ax.plot(x_val/sp.cos(theta), np.array(V_list) , label='V-lijn')\n",
    "plt.savefig('V_lijnvoorbeeld2', dpi=450);"
   ]
  },
  {
   "cell_type": "code",
   "execution_count": 33,
   "metadata": {},
   "outputs": [],
   "source": [
    "x_val = np.linspace(0, l, 901)\n",
    "M_numpy = sp.lambdify(x,M.subs(solutions).rewrite(sp.Piecewise).simplify()) #substitute full solution, make python function of formula\n",
    "M_list = M_numpy(x_val)"
   ]
  },
  {
   "cell_type": "code",
   "execution_count": 34,
   "metadata": {},
   "outputs": [
    {
     "data": {
      "image/png": "[encoded data removed]",
      "text/plain": [
       "<Figure size 720x360 with 1 Axes>"
      ]
     },
     "metadata": {
      "needs_background": "light"
     },
     "output_type": "display_data"
    }
   ],
   "source": [
    "fig = plt.figure(figsize=(10, 5))\n",
    "ax = fig.add_subplot(1, 1, 1)\n",
    "ax.set_xlim(0, 4.5)\n",
    "ax.set_ylim(-5, 20)\n",
    "\n",
    "ax.spines[\"left\"].set_position(\"zero\")\n",
    "ax.spines[\"right\"].set_visible(False)\n",
    "ax.spines[\"bottom\"].set_position(\"zero\")\n",
    "ax.spines[\"top\"].set_visible(False)\n",
    "\n",
    "\n",
    "ax.set_xlabel(\"$M-lijn$\")\n",
    "ax.xaxis.set_label_coords(0.53, 1.04)\n",
    "plt.gca()\n",
    "ax.plot(x_val/sp.cos(theta), - np.array(M_list) , label='M-lijn');\n",
    "plt.savefig('M_lijnvoorbeeld2', dpi=450);"
   ]
  },
  {
   "cell_type": "code",
   "execution_count": 35,
   "metadata": {},
   "outputs": [],
   "source": [
    "x_val = np.linspace(0, l, 901)\n",
    "phi_numpy = sp.lambdify(x,phi.subs(solutions).rewrite(sp.Piecewise).simplify()) #substitute full solution, make python function of formula\n",
    "phi_list = phi_numpy(x_val)"
   ]
  },
  {
   "cell_type": "code",
   "execution_count": 36,
   "metadata": {},
   "outputs": [
    {
     "data": {
      "image/png": "[encoded data removed]",
      "text/plain": [
       "<Figure size 720x360 with 1 Axes>"
      ]
     },
     "metadata": {
      "needs_background": "light"
     },
     "output_type": "display_data"
    }
   ],
   "source": [
    "fig = plt.figure(figsize=(10, 5))\n",
    "ax = fig.add_subplot(1, 1, 1)\n",
    "ax.set_xlim(0, 4.5)\n",
    "ax.set_ylim(-40, 5)\n",
    "\n",
    "ax.spines[\"left\"].set_position(\"zero\")\n",
    "ax.spines[\"right\"].set_visible(False)\n",
    "ax.spines[\"bottom\"].set_position(\"zero\")\n",
    "ax.spines[\"top\"].set_visible(False)\n",
    "\n",
    "\n",
    "ax.set_xlabel(\"$phi-lijn$\")\n",
    "ax.xaxis.set_label_coords(0.53, 1.04)\n",
    "plt.gca()\n",
    "ax.plot(x_val/sp.cos(theta), np.array(phi_list) , label='phi-lijn')\n",
    "plt.savefig('phi_lijnvoorbeeld2', dpi=450);"
   ]
  },
  {
   "cell_type": "markdown",
   "metadata": {},
   "source": [
    "w-lijn"
   ]
  },
  {
   "cell_type": "code",
   "execution_count": 37,
   "metadata": {},
   "outputs": [],
   "source": [
    "x_val = np.linspace(0, l, 901)\n",
    "W_numpy = sp.lambdify(x,W.subs(solutions).rewrite(sp.Piecewise).simplify()) #substitute full solution, make python function of formula\n",
    "W_list = W_numpy(x_val)"
   ]
  },
  {
   "cell_type": "code",
   "execution_count": 38,
   "metadata": {},
   "outputs": [
    {
     "data": {
      "image/png": "[encoded data removed]",
      "text/plain": [
       "<Figure size 720x360 with 1 Axes>"
      ]
     },
     "metadata": {
      "needs_background": "light"
     },
     "output_type": "display_data"
    }
   ],
   "source": [
    "fig = plt.figure(figsize=(10, 5))\n",
    "ax = fig.add_subplot(1, 1, 1)\n",
    "ax.set_xlim(0, 4.5)\n",
    "ax.set_ylim(-120, 2)\n",
    "\n",
    "ax.spines[\"left\"].set_position(\"zero\")\n",
    "ax.spines[\"right\"].set_visible(False)\n",
    "ax.spines[\"bottom\"].set_position(\"zero\")\n",
    "ax.spines[\"top\"].set_visible(False)\n",
    "\n",
    "\n",
    "ax.set_xlabel(\"$w-lijn$\")\n",
    "ax.xaxis.set_label_coords(0.53, 1.04)\n",
    "plt.gca()\n",
    "ax.plot(x_val/sp.cos(theta), - np.array(W_list) , label='w-lijn')\n",
    "plt.savefig('w_lijnvoorbeeld2', dpi=450);"
   ]
  },
  {
   "cell_type": "markdown",
   "metadata": {},
   "source": [
    "N-lijn"
   ]
  },
  {
   "cell_type": "code",
   "execution_count": 39,
   "metadata": {},
   "outputs": [],
   "source": [
    "x_val = np.linspace(0, 4.47213595499958, 901)\n",
    "N_numpy = sp.lambdify(x,N.subs(solutions).rewrite(sp.Piecewise).simplify()) #substitute full solution, make python function of formula\n",
    "N_list = N_numpy(x_val)"
   ]
  },
  {
   "cell_type": "code",
   "execution_count": 40,
   "metadata": {},
   "outputs": [
    {
     "data": {
      "image/png": "[encoded data removed]",
      "text/plain": [
       "<Figure size 720x360 with 1 Axes>"
      ]
     },
     "metadata": {
      "needs_background": "light"
     },
     "output_type": "display_data"
    }
   ],
   "source": [
    "fig = plt.figure(figsize=(10, 5))\n",
    "ax = fig.add_subplot(1, 1, 1)\n",
    "ax.set_xlim(0, 4.5)\n",
    "ax.set_ylim(0, -15)\n",
    "\n",
    "ax.spines[\"left\"].set_position(\"zero\")\n",
    "ax.spines[\"right\"].set_visible(False)\n",
    "ax.spines[\"bottom\"].set_position(\"zero\")\n",
    "ax.spines[\"top\"].set_visible(False)\n",
    "\n",
    "ax.set_xlabel(\"$N-lijn$\")\n",
    "ax.xaxis.set_label_coords(0.53, 1.04)\n",
    "plt.gca()\n",
    "ax.plot(x_val/sp.cos(theta),  np.array(N_list) , label='N-lijn')\n",
    "plt.savefig('N_lijnvoorbeeld2', dpi=450);"
   ]
  },
  {
   "cell_type": "markdown",
   "metadata": {},
   "source": [
    "# Voorbeeld 3"
   ]
  },
  {
   "cell_type": "code",
   "execution_count": 41,
   "metadata": {},
   "outputs": [],
   "source": [
    "Cv, Cm, Cphi, Cw, Av, Bv, Ah, Cn, MA = sp.symbols('Cv, Cm, Cphi, Cw, Av, Bv, Ah, Cn, MA')\n",
    "\n",
    "# F, l en theta definiëren \n",
    "F = 10  ## KN\n",
    "l = 4   ## m\n",
    "T = 10 \n",
    "theta = sp.atan(1/2) \n",
    "\n",
    "# qz en qx definiëren\n",
    "qz = -Av * sf(x, 0, -1) + MA*sf(x, 0, -2) - Bv * sf(x, l, -1) + T *sf(x, l/4, -2)\n",
    "qx = Ah * sf(x, 0, -1) -F*sf(x, l/2, -1)"
   ]
  },
  {
   "cell_type": "code",
   "execution_count": 42,
   "metadata": {},
   "outputs": [],
   "source": [
    "# V definiëren als een functie van x\n",
    "V = sp.integrate(-qx * sp.sin(theta), x) + sp.integrate(-qz * sp.cos(theta), x) + Cv\n",
    "# N definiëren als een functie van x\n",
    "N = sp.integrate(-qx * sp.cos(theta), x) + sp.integrate(qz * sp.sin(theta), x) + Cn"
   ]
  },
  {
   "cell_type": "code",
   "execution_count": 43,
   "metadata": {},
   "outputs": [],
   "source": [
    "# N definiëren als een functie van x\n",
    "M = sp.integrate(V/sp.cos(theta), x) + Cm\n",
    "\n",
    "# phi definiëren als een functie van x\n",
    "phi = sp.integrate(M, x) + Cphi\n",
    "\n",
    "# W definiëren als een functie van x\n",
    "W = sp.integrate(-phi, x) + Cw"
   ]
  },
  {
   "cell_type": "code",
   "execution_count": 44,
   "metadata": {},
   "outputs": [],
   "source": [
    "# u definiëren als een functie van x\n",
    "u = sp.integrate(N, x) + Cu"
   ]
  },
  {
   "cell_type": "code",
   "execution_count": 45,
   "metadata": {},
   "outputs": [
    {
     "data": {
      "text/plain": [
       "'V:'"
      ]
     },
     "metadata": {},
     "output_type": "display_data"
    },
    {
     "data": {
      "text/latex": [
       "$\\displaystyle - 0.447213595499958 Ah {\\left\\langle x \\right\\rangle}^{0} + 0.894427190999916 Av {\\left\\langle x \\right\\rangle}^{0} + 0.894427190999916 Bv {\\left\\langle x - 4 \\right\\rangle}^{0} + Cv - 0.894427190999916 MA {\\left\\langle x \\right\\rangle}^{-1} - 8.94427190999916 {\\left\\langle x - 1.0 \\right\\rangle}^{-1} + 4.47213595499958 {\\left\\langle x - 2.0 \\right\\rangle}^{0}$"
      ],
      "text/plain": [
       "-0.447213595499958*Ah*SingularityFunction(x, 0, 0) + 0.894427190999916*Av*SingularityFunction(x, 0, 0) + 0.894427190999916*Bv*SingularityFunction(x, 4, 0) + Cv - 0.894427190999916*MA*SingularityFunction(x, 0, -1) - 8.94427190999916*SingularityFunction(x, 1.0, -1) + 4.47213595499958*SingularityFunction(x, 2.0, 0)"
      ]
     },
     "metadata": {},
     "output_type": "display_data"
    },
    {
     "data": {
      "text/plain": [
       "'M:'"
      ]
     },
     "metadata": {},
     "output_type": "display_data"
    },
    {
     "data": {
      "text/latex": [
       "$\\displaystyle - 0.5 Ah {\\left\\langle x \\right\\rangle}^{1} + 1.0 Av {\\left\\langle x \\right\\rangle}^{1} + 1.0 Bv {\\left\\langle x - 4 \\right\\rangle}^{1} + Cm + 1.11803398874989 Cv x - 1.0 MA {\\left\\langle x \\right\\rangle}^{0} - 10.0 {\\left\\langle x - 1.0 \\right\\rangle}^{0} + 5.0 {\\left\\langle x - 2.0 \\right\\rangle}^{1}$"
      ],
      "text/plain": [
       "-0.5*Ah*SingularityFunction(x, 0, 1) + 1.0*Av*SingularityFunction(x, 0, 1) + 1.0*Bv*SingularityFunction(x, 4, 1) + Cm + 1.11803398874989*Cv*x - 1.0*MA*SingularityFunction(x, 0, 0) - 10.0*SingularityFunction(x, 1.0, 0) + 5.0*SingularityFunction(x, 2.0, 1)"
      ]
     },
     "metadata": {},
     "output_type": "display_data"
    },
    {
     "data": {
      "text/plain": [
       "'phi:'"
      ]
     },
     "metadata": {},
     "output_type": "display_data"
    },
    {
     "data": {
      "text/latex": [
       "$\\displaystyle - 0.25 Ah {\\left\\langle x \\right\\rangle}^{2} + 0.5 Av {\\left\\langle x \\right\\rangle}^{2} + 0.5 Bv {\\left\\langle x - 4 \\right\\rangle}^{2} + Cm x + Cphi + 0.559016994374947 Cv x^{2} - 1.0 MA {\\left\\langle x \\right\\rangle}^{1} - 10.0 {\\left\\langle x - 1.0 \\right\\rangle}^{1} + 2.5 {\\left\\langle x - 2.0 \\right\\rangle}^{2}$"
      ],
      "text/plain": [
       "-0.25*Ah*SingularityFunction(x, 0, 2) + 0.5*Av*SingularityFunction(x, 0, 2) + 0.5*Bv*SingularityFunction(x, 4, 2) + Cm*x + Cphi + 0.559016994374947*Cv*x**2 - 1.0*MA*SingularityFunction(x, 0, 1) - 10.0*SingularityFunction(x, 1.0, 1) + 2.5*SingularityFunction(x, 2.0, 2)"
      ]
     },
     "metadata": {},
     "output_type": "display_data"
    },
    {
     "data": {
      "text/plain": [
       "'W:'"
      ]
     },
     "metadata": {},
     "output_type": "display_data"
    },
    {
     "data": {
      "text/latex": [
       "$\\displaystyle 0.0833333333333333 Ah {\\left\\langle x \\right\\rangle}^{3} - 0.166666666666667 Av {\\left\\langle x \\right\\rangle}^{3} - 0.166666666666667 Bv {\\left\\langle x - 4 \\right\\rangle}^{3} - \\frac{Cm x^{2}}{2} - Cphi x - 0.186338998124982 Cv x^{3} + Cw + 0.5 MA {\\left\\langle x \\right\\rangle}^{2} + 5.0 {\\left\\langle x - 1.0 \\right\\rangle}^{2} - 0.833333333333333 {\\left\\langle x - 2.0 \\right\\rangle}^{3}$"
      ],
      "text/plain": [
       "0.0833333333333333*Ah*SingularityFunction(x, 0, 3) - 0.166666666666667*Av*SingularityFunction(x, 0, 3) - 0.166666666666667*Bv*SingularityFunction(x, 4, 3) - Cm*x**2/2 - Cphi*x - 0.186338998124982*Cv*x**3 + Cw + 0.5*MA*SingularityFunction(x, 0, 2) + 5.0*SingularityFunction(x, 1.0, 2) - 0.833333333333333*SingularityFunction(x, 2.0, 3)"
      ]
     },
     "metadata": {},
     "output_type": "display_data"
    },
    {
     "data": {
      "text/plain": [
       "'N:'"
      ]
     },
     "metadata": {},
     "output_type": "display_data"
    },
    {
     "data": {
      "text/latex": [
       "$\\displaystyle - 0.894427190999916 Ah {\\left\\langle x \\right\\rangle}^{0} - 0.447213595499958 Av {\\left\\langle x \\right\\rangle}^{0} - 0.447213595499958 Bv {\\left\\langle x - 4 \\right\\rangle}^{0} + Cn + 0.447213595499958 MA {\\left\\langle x \\right\\rangle}^{-1} + 4.47213595499958 {\\left\\langle x - 1.0 \\right\\rangle}^{-1} + 8.94427190999916 {\\left\\langle x - 2.0 \\right\\rangle}^{0}$"
      ],
      "text/plain": [
       "-0.894427190999916*Ah*SingularityFunction(x, 0, 0) - 0.447213595499958*Av*SingularityFunction(x, 0, 0) - 0.447213595499958*Bv*SingularityFunction(x, 4, 0) + Cn + 0.447213595499958*MA*SingularityFunction(x, 0, -1) + 4.47213595499958*SingularityFunction(x, 1.0, -1) + 8.94427190999916*SingularityFunction(x, 2.0, 0)"
      ]
     },
     "metadata": {},
     "output_type": "display_data"
    },
    {
     "data": {
      "text/plain": [
       "'u:'"
      ]
     },
     "metadata": {},
     "output_type": "display_data"
    },
    {
     "data": {
      "text/latex": [
       "$\\displaystyle - 0.894427190999916 Ah {\\left\\langle x \\right\\rangle}^{1} - 0.447213595499958 Av {\\left\\langle x \\right\\rangle}^{1} - 0.447213595499958 Bv {\\left\\langle x - 4 \\right\\rangle}^{1} + Cn x + Cu + 0.447213595499958 MA {\\left\\langle x \\right\\rangle}^{0} + 4.47213595499958 {\\left\\langle x - 1.0 \\right\\rangle}^{0} + 8.94427190999916 {\\left\\langle x - 2.0 \\right\\rangle}^{1}$"
      ],
      "text/plain": [
       "-0.894427190999916*Ah*SingularityFunction(x, 0, 1) - 0.447213595499958*Av*SingularityFunction(x, 0, 1) - 0.447213595499958*Bv*SingularityFunction(x, 4, 1) + Cn*x + Cu + 0.447213595499958*MA*SingularityFunction(x, 0, 0) + 4.47213595499958*SingularityFunction(x, 1.0, 0) + 8.94427190999916*SingularityFunction(x, 2.0, 1)"
      ]
     },
     "metadata": {},
     "output_type": "display_data"
    }
   ],
   "source": [
    "display(\"V:\", V)\n",
    "display(\"M:\", M)\n",
    "display(\"phi:\", phi)\n",
    "display(\"W:\", W)\n",
    "display(\"N:\", N)\n",
    "display(\"u:\", u)"
   ]
  },
  {
   "cell_type": "code",
   "execution_count": 46,
   "metadata": {},
   "outputs": [],
   "source": [
    "eq1 = V.subs(x, -1)\n",
    "eq2 = V.subs(x, l+1) \n",
    "\n",
    "eq3 = M.subs(x, -1)\n",
    "eq4 = M.subs(x, l)\n",
    "\n",
    "eq5 = W.subs(x, 0)\n",
    "eq6 = phi.subs(x, 0)\n",
    "\n",
    "eq7 = N.subs(x, -1)\n",
    "eq8 = W.subs(x, l)\n",
    "eq9 = N.subs(x, l+1)\n",
    "\n",
    "equations = [eq1 - 0, eq2 - 0 , eq3 - 0, eq4 - 0, eq5 - 0, eq6 - 0, eq7 - 0, eq8 -0, eq9 - 0]\n",
    "solutions = sp.solve(equations, (Cv, Cm, Cphi, Cw, Av, MA, Cn, Ah, Bv))"
   ]
  },
  {
   "cell_type": "code",
   "execution_count": 47,
   "metadata": {},
   "outputs": [
    {
     "name": "stdout",
     "output_type": "stream",
     "text": [
      "{Cv: 0.0, Cm: 0.0, Cphi: 0.0, Cw: 0.0, Av: 3.20312500000000, MA: -7.18750000000000, Cn: 0.0, Ah: 10.0000000000000, Bv: -3.20312500000000}\n"
     ]
    }
   ],
   "source": [
    "print(solutions)"
   ]
  },
  {
   "cell_type": "code",
   "execution_count": 48,
   "metadata": {},
   "outputs": [],
   "source": [
    "x_val = np.linspace(0, 4.4721359549995, 901)\n",
    "V_numpy = sp.lambdify(x,V.subs(solutions).rewrite(sp.Piecewise).simplify()) #substitute full solution, make python function of formula\n",
    "V_list = V_numpy(x_val)"
   ]
  },
  {
   "cell_type": "code",
   "execution_count": 49,
   "metadata": {},
   "outputs": [
    {
     "data": {
      "image/png": "[encoded data removed]",
      "text/plain": [
       "<Figure size 720x360 with 1 Axes>"
      ]
     },
     "metadata": {
      "needs_background": "light"
     },
     "output_type": "display_data"
    }
   ],
   "source": [
    "fig = plt.figure(figsize=(10, 5))\n",
    "ax = fig.add_subplot(1, 1, 1)\n",
    "ax.set_xlim(0, 4.5)\n",
    "ax.set_ylim(-3, 6)\n",
    "\n",
    "ax.spines[\"left\"].set_position(\"zero\")\n",
    "ax.spines[\"right\"].set_visible(False)\n",
    "ax.spines[\"bottom\"].set_position(\"zero\")\n",
    "ax.spines[\"top\"].set_visible(False)\n",
    "\n",
    "\n",
    "ax.set_xlabel(\"$V-lijn$\")\n",
    "ax.xaxis.set_label_coords(0.53, 1.04)\n",
    "plt.gca()\n",
    "ax.plot(x_val/sp.cos(theta), np.array(V_list) , label='V-lijn')\n",
    "plt.savefig('V_lijnvoorbeeld3', dpi=450);"
   ]
  },
  {
   "cell_type": "code",
   "execution_count": 50,
   "metadata": {},
   "outputs": [],
   "source": [
    "x_val = np.linspace(0, l, 901)\n",
    "M_numpy = sp.lambdify(x,M.subs(solutions).rewrite(sp.Piecewise).simplify()) \n",
    "M_list = M_numpy(x_val)"
   ]
  },
  {
   "cell_type": "code",
   "execution_count": 51,
   "metadata": {},
   "outputs": [
    {
     "data": {
      "image/png": "[encoded data removed]",
      "text/plain": [
       "<Figure size 720x360 with 1 Axes>"
      ]
     },
     "metadata": {
      "needs_background": "light"
     },
     "output_type": "display_data"
    }
   ],
   "source": [
    "fig = plt.figure(figsize=(10, 5))\n",
    "ax = fig.add_subplot(1, 1, 1)\n",
    "ax.set_xlim(0, 4.5)\n",
    "ax.set_ylim(-8, 8)\n",
    "\n",
    "ax.spines[\"left\"].set_position(\"zero\")\n",
    "ax.spines[\"right\"].set_visible(False)\n",
    "ax.spines[\"bottom\"].set_position(\"zero\")\n",
    "ax.spines[\"top\"].set_visible(False)\n",
    "\n",
    "\n",
    "ax.set_xlabel(\"$M-lijn$\")\n",
    "ax.xaxis.set_label_coords(0.53, 1.04)\n",
    "plt.gca()\n",
    "ax.plot(x_val/sp.cos(theta),  -np.array(M_list) , label='M-lijn');\n",
    "plt.savefig('M_lijnvoorbeeld3', dpi=450);"
   ]
  },
  {
   "cell_type": "code",
   "execution_count": 52,
   "metadata": {},
   "outputs": [],
   "source": [
    "x_val = np.linspace(0, l, 901)\n",
    "phi_numpy = sp.lambdify(x,phi.subs(solutions).rewrite(sp.Piecewise).simplify()) #substitute full solution, make python function of formula\n",
    "phi_list = phi_numpy(x_val)"
   ]
  },
  {
   "cell_type": "code",
   "execution_count": 53,
   "metadata": {},
   "outputs": [
    {
     "data": {
      "image/png": "[encoded data removed]",
      "text/plain": [
       "<Figure size 720x360 with 1 Axes>"
      ]
     },
     "metadata": {
      "needs_background": "light"
     },
     "output_type": "display_data"
    }
   ],
   "source": [
    "fig = plt.figure(figsize=(10, 5))\n",
    "ax = fig.add_subplot(1, 1, 1)\n",
    "ax.set_xlim(0, 4.5)\n",
    "ax.set_ylim(-10, 15)\n",
    "\n",
    "ax.spines[\"left\"].set_position(\"zero\")\n",
    "ax.spines[\"right\"].set_visible(False)\n",
    "ax.spines[\"bottom\"].set_position(\"zero\")\n",
    "ax.spines[\"top\"].set_visible(False)\n",
    "\n",
    "\n",
    "ax.set_xlabel(\"$phi*EI-lijn$\")\n",
    "ax.xaxis.set_label_coords(0.53, 1.04)\n",
    "plt.gca()\n",
    "ax.plot(x_val/sp.cos(theta), np.array(phi_list) , label='phi-lijn')\n",
    "plt.savefig('phi_lijnvoorbeeld3', dpi=450);"
   ]
  },
  {
   "cell_type": "code",
   "execution_count": 54,
   "metadata": {},
   "outputs": [],
   "source": [
    "x_val = np.linspace(0, l, 901)\n",
    "W_numpy = sp.lambdify(x,W.subs(solutions).rewrite(sp.Piecewise).simplify()) #substitute full solution, make python function of formula\n",
    "W_list = W_numpy(x_val)"
   ]
  },
  {
   "cell_type": "code",
   "execution_count": 55,
   "metadata": {},
   "outputs": [
    {
     "data": {
      "image/png": "[encoded data removed]",
      "text/plain": [
       "<Figure size 720x360 with 1 Axes>"
      ]
     },
     "metadata": {
      "needs_background": "light"
     },
     "output_type": "display_data"
    }
   ],
   "source": [
    "fig = plt.figure(figsize=(10, 5))\n",
    "ax = fig.add_subplot(1, 1, 1)\n",
    "ax.set_xlim(0, 4.5)\n",
    "ax.set_ylim(-2, 10)\n",
    "\n",
    "ax.spines[\"left\"].set_position(\"zero\")\n",
    "ax.spines[\"right\"].set_visible(False)\n",
    "ax.spines[\"bottom\"].set_position(\"zero\")\n",
    "ax.spines[\"top\"].set_visible(False)\n",
    "\n",
    "\n",
    "ax.set_xlabel(\"$EI * w-lijn$\")\n",
    "ax.xaxis.set_label_coords(0.53, 1.04)\n",
    "plt.gca()\n",
    "ax.plot(x_val/sp.cos(theta), - np.array(W_list) , label='w-lijn')\n",
    "plt.savefig('w_lijnvoorbeeld3', dpi=450);"
   ]
  },
  {
   "cell_type": "code",
   "execution_count": 56,
   "metadata": {},
   "outputs": [],
   "source": [
    "x_val = np.linspace(0, 4.47213595499958, 901)\n",
    "N_numpy = sp.lambdify(x,N.subs(solutions).rewrite(sp.Piecewise).simplify()) #substitute full solution, make python function of formula\n",
    "N_list = N_numpy(x_val)"
   ]
  },
  {
   "cell_type": "code",
   "execution_count": 57,
   "metadata": {},
   "outputs": [
    {
     "data": {
      "image/png": "[encoded data removed]",
      "text/plain": [
       "<Figure size 720x360 with 1 Axes>"
      ]
     },
     "metadata": {
      "needs_background": "light"
     },
     "output_type": "display_data"
    }
   ],
   "source": [
    "fig = plt.figure(figsize=(10, 5))\n",
    "ax = fig.add_subplot(1, 1, 1)\n",
    "ax.set_xlim(0, 4.5)\n",
    "ax.set_ylim(0, -12)\n",
    "\n",
    "ax.spines[\"left\"].set_position(\"zero\")\n",
    "ax.spines[\"right\"].set_visible(False)\n",
    "ax.spines[\"bottom\"].set_position(\"zero\")\n",
    "ax.spines[\"top\"].set_visible(False)\n",
    "\n",
    "ax.set_xlabel(\"$N-lijn$\")\n",
    "ax.xaxis.set_label_coords(0.53, 1.04)\n",
    "plt.gca()\n",
    "ax.plot(x_val/sp.cos(theta),  np.array(N_list) , label='N-lijn')\n",
    "plt.savefig('N_lijnvoorbeeld3', dpi=450);"
   ]
  },
  {
   "cell_type": "markdown",
   "metadata": {},
   "source": [
    "# Geknikte staven"
   ]
  },
  {
   "cell_type": "markdown",
   "metadata": {},
   "source": [
    "### Voorbeeld 4"
   ]
  },
  {
   "cell_type": "markdown",
   "metadata": {},
   "source": [
    "#### Benadering"
   ]
  },
  {
   "cell_type": "code",
   "execution_count": 58,
   "metadata": {},
   "outputs": [],
   "source": [
    "x, Cv, Cm, Cphi, Cw, Av, Bv, MA, Ah, Cn= sp.symbols('x, C_v, C_m, C_phi, C_w, A_v, B_v, M_A, A_h, C_n')\n",
    "\n",
    "l = 4\n",
    "F1 = 10\n",
    "F2 = 10\n",
    "\n",
    "theta = sp.atan(0.25)\n",
    "alpha = sp.atan(0.5)"
   ]
  },
  {
   "cell_type": "code",
   "execution_count": 59,
   "metadata": {},
   "outputs": [],
   "source": [
    "## Krachtenvergelijking van staaf 1\n",
    "qz1 = sp.nsimplify(-Av * sf(x, 0, -1) + MA* sf(x, 0, -2) + F1 *sf(x, l/2, -1))\n",
    "qx1 = sp.nsimplify(Ah * sf(x, 0, -1))"
   ]
  },
  {
   "cell_type": "code",
   "execution_count": 60,
   "metadata": {},
   "outputs": [],
   "source": [
    "## Krachtenvergelijking van staaf 2\n",
    "\n",
    "qz2 = sp.nsimplify(-Bv * sf(x, (3/2)*l, -1) + F2 *sf(x, (5/4)*l, -1))\n",
    "qx2 = 0"
   ]
  },
  {
   "cell_type": "code",
   "execution_count": 61,
   "metadata": {},
   "outputs": [],
   "source": [
    "## V = V1 + V2 \n",
    "## Dwarskracht in de eerste staaf \n",
    "V1 = sp.integrate(-qx1 * sp.sin(theta), x) + sp.integrate(-qz1 * sp.cos(theta), x)\n",
    "## Dwasrkracht in de tweede staaf\n",
    "V2 = sp.integrate(-qx2 * sp.sin(alpha), x) + sp.integrate(-qz2 * sp.cos(alpha), x)\n",
    "\n",
    "V = V1 + V2 + Cv"
   ]
  },
  {
   "cell_type": "code",
   "execution_count": 62,
   "metadata": {},
   "outputs": [],
   "source": [
    "## N = N1 + N2 \n",
    "## Normaalkracht in de eerste staaf\n",
    "N1 = sp.integrate(-qx1 * sp.cos(theta), x) + sp.integrate(qz1 * sp.sin(theta), x)\n",
    "## Normaalkracht in de tweedee staaf\n",
    "N2 = sp.integrate(-qx2 * sp.cos(alpha), x) + sp.integrate(qz2 * sp.sin(alpha), x)\n",
    "N = N1 + N2 + Cn"
   ]
  },
  {
   "cell_type": "code",
   "execution_count": 63,
   "metadata": {},
   "outputs": [],
   "source": [
    "M1 = sp.integrate(V1/sp.cos(theta), x)\n",
    "M2 = sp.integrate(V2/sp.cos(alpha), x)\n",
    "M = M1 + M2 + Cm\n",
    "phi = sp.integrate(M, x) + Cphi\n",
    "W = sp.integrate(phi, x) + Cw"
   ]
  },
  {
   "cell_type": "code",
   "execution_count": 64,
   "metadata": {},
   "outputs": [],
   "source": [
    "eq1 = V.subs(x, -1)\n",
    "eq2 = M.subs(x, -1)\n",
    "eq3 = V.subs(x, (3/2)*l + 1)\n",
    "\n",
    "eq4 = phi.subs(x, 0)\n",
    "eq5 = W.subs(x, 0)\n",
    "\n",
    "eq6 = M.subs(x, (3/2)*l)\n",
    "eq7 = W.subs(x, (3/2)*l )\n",
    "\n",
    "eq8 = N.subs(x, -0.01)\n",
    "eq9 = N.subs(x, ((3/2)*l) )\n",
    "\n",
    "equations = [eq1-0, eq2-0, eq3-0, eq4-0, eq5-0, eq6-0, eq7 -0, eq8-0, eq9-0]\n",
    "solutions = sp.solve(equations, (Cn, Cm, Cphi, Cw, Av, Bv, MA, Cv, Ah))"
   ]
  },
  {
   "cell_type": "code",
   "execution_count": 65,
   "metadata": {},
   "outputs": [
    {
     "data": {
      "text/plain": [
       "{C_n: 0.0,\n",
       " C_m: 0.0,\n",
       " C_phi: 0.0,\n",
       " C_w: 0.0,\n",
       " A_v: 11.0539215686274,\n",
       " B_v: 8.92036924928217,\n",
       " M_A: 15.9722222222222,\n",
       " C_v: 0.0,\n",
       " A_h: 0.234204793028313}"
      ]
     },
     "metadata": {},
     "output_type": "display_data"
    }
   ],
   "source": [
    "display(solutions)"
   ]
  },
  {
   "cell_type": "code",
   "execution_count": 66,
   "metadata": {},
   "outputs": [
    {
     "name": "stdout",
     "output_type": "stream",
     "text": [
      "[0.9656511 0.9656511]\n"
     ]
    },
    {
     "data": {
      "image/png": "[encoded data removed]",
      "text/plain": [
       "<Figure size 864x432 with 1 Axes>"
      ]
     },
     "metadata": {
      "needs_background": "light"
     },
     "output_type": "display_data"
    }
   ],
   "source": [
    "x_val = np.linspace(0, 3*l/2, 301)\n",
    "V_numpy = sp.lambdify(x,V.subs(solutions).rewrite(sp.Piecewise).simplify())\n",
    "V_list = V_numpy(x_val)\n",
    "\n",
    "print(V_list[200:202])\n",
    "\n",
    "fig = plt.figure(figsize=(12, 6))\n",
    "ax = fig.add_subplot(1, 1, 1)\n",
    "ax.set_xlim(0, 6)\n",
    "ax.set_ylim(-9, 12)\n",
    "\n",
    "ax.spines[\"left\"].set_position(\"zero\")\n",
    "ax.spines[\"right\"].set_visible(False)\n",
    "ax.spines[\"bottom\"].set_position(\"zero\")\n",
    "ax.spines[\"top\"].set_visible(False)\n",
    "\n",
    "ax.xaxis.set_label_coords(0.53, 1.04)\n",
    "plt.gca()\n",
    "ax.plot(x_val, np.array(V_list));"
   ]
  },
  {
   "cell_type": "code",
   "execution_count": 67,
   "metadata": {},
   "outputs": [
    {
     "name": "stdout",
     "output_type": "stream",
     "text": [
      "[-0.48282555 -0.48282555]\n"
     ]
    },
    {
     "data": {
      "image/png": "[encoded data removed]",
      "text/plain": [
       "<Figure size 864x432 with 1 Axes>"
      ]
     },
     "metadata": {
      "needs_background": "light"
     },
     "output_type": "display_data"
    }
   ],
   "source": [
    "x_val = np.linspace(0, 3*l/2, 301)\n",
    "N_numpy = sp.lambdify(x,N.subs(solutions).rewrite(sp.Piecewise).simplify()) \n",
    "N_list = N_numpy(x_val)\n",
    "\n",
    "print(N_list[200:202])\n",
    "\n",
    "fig = plt.figure(figsize=(12, 6))\n",
    "ax = fig.add_subplot(1, 1, 1)\n",
    "ax.set_xlim(0, 7)\n",
    "ax.set_ylim(-9, 12)\n",
    "\n",
    "ax.spines[\"left\"].set_position(\"zero\")\n",
    "ax.spines[\"right\"].set_visible(False)\n",
    "ax.spines[\"bottom\"].set_position(\"zero\")\n",
    "ax.spines[\"top\"].set_visible(False)\n",
    "\n",
    "ax.xaxis.set_label_coords(0.53, 1.04)\n",
    "plt.gca()\n",
    "ax.plot(x_val, np.array(N_list)); "
   ]
  },
  {
   "cell_type": "markdown",
   "metadata": {},
   "source": [
    "### Iteratie 1"
   ]
  },
  {
   "cell_type": "code",
   "execution_count": 68,
   "metadata": {},
   "outputs": [],
   "source": [
    "Cv, Cm, Cphi, Cw, Av, Bv, MA, Ah, Cn= sp.symbols('C_v, C_m, C_phi, C_w, A_v, B_v, M_A, A_h, C_n')\n",
    "\n",
    "# Define qz and qx\n",
    "DwaL =  0.9656511\n",
    "DwaR =  0.9656511\n",
    "NorL = -0.48282555\n",
    "NorR = -0.48282555\n",
    "qz1 = sp.nsimplify(-Av * sf(x, 0, -1) + MA* sf(x, 0, -2) + F1 *sf(x, l/2, -1) + DwaL * sf(x, l, -1) * sp.cos(theta)- NorL * sf(x, l, -1) * sp.sin(theta))\n",
    "qz2 = sp.nsimplify(-Bv * sf(x, (3/2)*l, -1) + F2 *sf(x, (5/4)*l, -1) - DwaR *sf(x, l, -1)* sp.cos(alpha) + NorR * sf(x, l, -1)* sp.sin(alpha) )\n",
    "qx1 = sp.nsimplify(Ah * sf(x, 0, -1) + DwaL * sf(x, l, -1) * sp.sin(theta)  + NorL * sf(x, l, -1)* sp.cos(theta))\n",
    "qx2 = sp.nsimplify(-DwaR * sf(x, l, -1)*sp.sin(alpha) -NorR * sf(x, l, -1)* sp.cos(alpha))\n",
    "\n",
    "\n",
    "# Define V as a function of x\n",
    "## staaf 1\n",
    "V1 = sp.cos(theta) * sp.integrate( -qz1 , x)\n",
    "V2 = sp.integrate(- (sp.sin(theta) * sp.tan(theta) * qx1), x)\n",
    "## staaf 2\n",
    "V3 = sp.cos(alpha) * sp.integrate( -qz2 , x)\n",
    "V4 = sp.integrate(- (sp.sin(alpha) * sp.tan(alpha) * qx2), x)\n",
    "\n",
    "V =V1 + V2 + V3 + V4 + Cv\n",
    "\n",
    "# Define M as an integral of V\n",
    "## staaf 1\n",
    "M1 = sp.integrate( (V1  / sp.cos(theta)), x)\n",
    "M2 = sp.integrate( (V2  / sp.cos(theta)), x)\n",
    "## sfaaf 2\n",
    "M3 = sp.integrate((V3 / sp.cos(alpha)), x)\n",
    "M4 = sp.integrate((V4 / sp.cos(alpha)), x)\n",
    "M  = M1 + M2 + M3+ M4 + Cm\n",
    "\n",
    "# Define phi as an integral of M\n",
    "phi = sp.integrate(M, x) + Cphi\n",
    "\n",
    "# Define W as an integral of -phi\n",
    "W = sp.integrate(-phi, x) + Cw\n",
    "\n",
    "N1 = sp.integrate(sp.sin(theta) * (-qx1 + qz1), x) + Cn\n",
    "N2 = sp.integrate(sp.sin(alpha) * (-qx2 + qz2), x) \n",
    "N = N1+ N2 +Cn"
   ]
  },
  {
   "cell_type": "code",
   "execution_count": 69,
   "metadata": {},
   "outputs": [
    {
     "data": {
      "text/plain": [
       "{C_v: 0.0,\n",
       " C_m: 0.0,\n",
       " C_phi: 0.0,\n",
       " C_w: 0.0,\n",
       " A_v: 10.9868559793420,\n",
       " B_v: 8.98907082505678,\n",
       " M_A: 15.9363582385174,\n",
       " C_n: 0.0,\n",
       " A_h: 0.174590935654146}"
      ]
     },
     "metadata": {},
     "output_type": "display_data"
    }
   ],
   "source": [
    "eq1 = V.subs(x, -1)\n",
    "eq2 = M.subs(x, -1)\n",
    "eq3 = V.subs(x, (3/2)*l + 1)\n",
    "eq4 = phi.subs(x, 0)\n",
    "eq5 = W.subs(x, 0)\n",
    "eq6 = M.subs(x, (3/2)*l)\n",
    "eq7 = W.subs(x, (3/2)*l)\n",
    "eq8 = N.subs(x, -0.01)\n",
    "eq9 = N.subs(x, ((3/2)*l) +1 )\n",
    "equations = [eq1-0, eq2-0, eq3-0, eq4-0, eq5-0, eq6-0, eq7 -0, eq8-0, eq9-0]\n",
    "solutions = sp.solve(equations, (Cv, Cm, Cphi, Cw, Av, Bv, MA, Cn, Ah))\n",
    "display(solutions)"
   ]
  },
  {
   "cell_type": "code",
   "execution_count": 70,
   "metadata": {},
   "outputs": [
    {
     "name": "stdout",
     "output_type": "stream",
     "text": [
      "[0.9468048  0.90420254]\n"
     ]
    },
    {
     "data": {
      "image/png": "[encoded data removed]",
      "text/plain": [
       "<Figure size 864x432 with 1 Axes>"
      ]
     },
     "metadata": {
      "needs_background": "light"
     },
     "output_type": "display_data"
    }
   ],
   "source": [
    "x_val = np.linspace(0, 3*l/2, 301)\n",
    "V_numpy = sp.lambdify(x,V.subs(solutions).rewrite(sp.Piecewise).simplify()) \n",
    "V_list = V_numpy(x_val)\n",
    "print(V_list[200:202])\n",
    "\n",
    "fig = plt.figure(figsize=(12, 6))\n",
    "ax = fig.add_subplot(1, 1, 1)\n",
    "ax.set_xlim(0, 6)\n",
    "ax.set_ylim(-9, 12)\n",
    "\n",
    "ax.spines[\"left\"].set_position(\"zero\")\n",
    "ax.spines[\"right\"].set_visible(False)\n",
    "ax.spines[\"bottom\"].set_position(\"zero\")\n",
    "ax.spines[\"top\"].set_visible(False)\n",
    "\n",
    "ax.xaxis.set_label_coords(0.53, 1.04)\n",
    "plt.gca()\n",
    "ax.plot(x_val, np.array(V_list)); "
   ]
  },
  {
   "cell_type": "code",
   "execution_count": 71,
   "metadata": {},
   "outputs": [
    {
     "name": "stdout",
     "output_type": "stream",
     "text": [
      "[-0.28169225 -0.45210127]\n"
     ]
    },
    {
     "data": {
      "image/png": "[encoded data removed]",
      "text/plain": [
       "<Figure size 864x432 with 1 Axes>"
      ]
     },
     "metadata": {
      "needs_background": "light"
     },
     "output_type": "display_data"
    }
   ],
   "source": [
    "x_val = np.linspace(0, 3*l/2, 301)\n",
    "N_numpy = sp.lambdify(x,N.subs(solutions).rewrite(sp.Piecewise).simplify()) \n",
    "N_list = N_numpy(x_val)\n",
    "\n",
    "print(N_list[200:202])\n",
    "\n",
    "fig = plt.figure(figsize=(12, 6))\n",
    "ax = fig.add_subplot(1, 1, 1)\n",
    "ax.set_xlim(0, 6)\n",
    "ax.set_ylim(-4, 12)\n",
    "\n",
    "ax.spines[\"left\"].set_position(\"zero\")\n",
    "ax.spines[\"right\"].set_visible(False)\n",
    "ax.spines[\"bottom\"].set_position(\"zero\")\n",
    "ax.spines[\"top\"].set_visible(False)\n",
    "\n",
    "ax.xaxis.set_label_coords(0.53, 1.04)\n",
    "plt.gca()\n",
    "ax.plot(x_val, np.array(N_list));"
   ]
  },
  {
   "cell_type": "markdown",
   "metadata": {},
   "source": [
    "### iteratie 2"
   ]
  },
  {
   "cell_type": "code",
   "execution_count": 72,
   "metadata": {},
   "outputs": [],
   "source": [
    "Cv, Cm, Cphi, Cw, Av, Bv, MA, Ah, Cn= sp.symbols('C_v, C_m, C_phi, C_w, A_v, B_v, M_A, A_h, C_n')\n",
    "\n",
    "# Define qz and qx\n",
    "DwaL =  0.9468048\n",
    "DwaR =  0.90420254\n",
    "NorL = -0.28169225\n",
    "NorR = -0.45210127\n",
    "qz1 = sp.nsimplify(-Av * sf(x, 0, -1) + MA* sf(x, 0, -2) + F1 *sf(x, l/2, -1) + DwaL * sf(x, l, -1) * sp.cos(theta)- NorL * sf(x, l, -1) * sp.sin(theta))\n",
    "qz2 = sp.nsimplify(-Bv * sf(x, (3/2)*l, -1) + F2 *sf(x, (5/4)*l, -1) - DwaR *sf(x, l, -1)* sp.cos(alpha) + NorR * sf(x, l, -1)* sp.sin(alpha) )\n",
    "qx1 = sp.nsimplify(Ah * sf(x, 0, -1) + DwaL * sf(x, l, -1) * sp.sin(theta)  + NorL * sf(x, l, -1)* sp.cos(theta))\n",
    "qx2 = sp.nsimplify(-DwaR * sf(x, l, -1)*sp.sin(alpha) -NorR * sf(x, l, -1)* sp.cos(alpha))\n",
    "\n",
    "\n",
    "# Define V as a function of x\n",
    "## staaf 1\n",
    "V1 = sp.cos(theta) * sp.integrate( -qz1 , x)\n",
    "V2 = sp.integrate(- (sp.sin(theta) * sp.tan(theta) * qx1), x)\n",
    "## staaf 2\n",
    "V3 = sp.cos(alpha) * sp.integrate( -qz2 , x)\n",
    "V4 = sp.integrate(- (sp.sin(alpha) * sp.tan(alpha) * qx2), x)\n",
    "\n",
    "V =V1 + V2 + V3 + V4 + Cv\n",
    "\n",
    "# Define M as an integral of V\n",
    "## staaf 1\n",
    "M1 = sp.integrate( (V1  / sp.cos(theta)), x)\n",
    "M2 = sp.integrate( (V2  / sp.cos(theta)), x)\n",
    "## sfaaf 2\n",
    "M3 = sp.integrate((V3 / sp.cos(alpha)), x)\n",
    "M4 = sp.integrate((V4 / sp.cos(alpha)), x)\n",
    "M  = M1 + M2 + M3+ M4 + Cm\n",
    "\n",
    "# Define phi as an integral of M\n",
    "phi = sp.integrate(M, x) + Cphi\n",
    "\n",
    "# Define W as an integral of -phi\n",
    "W = sp.integrate(-phi, x) + Cw\n",
    "\n",
    "N1 = sp.integrate(sp.sin(theta) * (-qx1 + qz1), x) + Cn\n",
    "N2 = sp.integrate(sp.sin(alpha) * (-qx2 + qz2), x) \n",
    "N = N1+ N2 + Cn"
   ]
  },
  {
   "cell_type": "code",
   "execution_count": 73,
   "metadata": {},
   "outputs": [
    {
     "data": {
      "text/plain": [
       "{C_v: 0.0,\n",
       " C_m: 0.0,\n",
       " C_phi: 0.0,\n",
       " C_w: 0.0,\n",
       " A_v: 10.9850963259576,\n",
       " B_v: 8.99087340809321,\n",
       " M_A: 15.9483989566231,\n",
       " C_n: 0.0,\n",
       " A_h: 0.0420835912550643}"
      ]
     },
     "metadata": {},
     "output_type": "display_data"
    }
   ],
   "source": [
    "eq1 = V.subs(x, -1)\n",
    "eq2 = M.subs(x, -1)\n",
    "eq3 = V.subs(x, (3/2)*l + 1)\n",
    "eq4 = phi.subs(x, 0)\n",
    "eq5 = W.subs(x, 0)\n",
    "eq6 = M.subs(x, (3/2)*l)\n",
    "eq7 = W.subs(x, (3/2)*l)\n",
    "eq8 = N.subs(x, -0.01)\n",
    "eq9 = N.subs(x, ((3/2)*l) +1 )\n",
    "equations = [eq1-0, eq2-0, eq3-0, eq4-0, eq5-0, eq6-0, eq7 -0, eq8-0, eq9-0]\n",
    "solutions = sp.solve(equations, (Cv, Cm, Cphi, Cw, Av, Bv, MA, Cn, Ah))\n",
    "display(solutions)"
   ]
  },
  {
   "cell_type": "code",
   "execution_count": 74,
   "metadata": {},
   "outputs": [
    {
     "name": "stdout",
     "output_type": "stream",
     "text": [
      "[0.95313212 0.90259026]\n"
     ]
    },
    {
     "data": {
      "image/png": "[encoded data removed]",
      "text/plain": [
       "<Figure size 864x432 with 1 Axes>"
      ]
     },
     "metadata": {
      "needs_background": "light"
     },
     "output_type": "display_data"
    }
   ],
   "source": [
    "x_val = np.linspace(0, 3*l/2, 301)\n",
    "V_numpy = sp.lambdify(x,V.subs(solutions).rewrite(sp.Piecewise).simplify()) \n",
    "V_list = V_numpy(x_val)\n",
    "print(V_list[200:202]) \n",
    "\n",
    "fig = plt.figure(figsize=(12, 6))\n",
    "ax = fig.add_subplot(1, 1, 1)\n",
    "ax.set_xlim(0, 6)\n",
    "ax.set_ylim(-9, 12)\n",
    "\n",
    "ax.spines[\"left\"].set_position(\"zero\")\n",
    "ax.spines[\"right\"].set_visible(False)\n",
    "ax.spines[\"bottom\"].set_position(\"zero\")\n",
    "ax.spines[\"top\"].set_visible(False)\n",
    "\n",
    "ax.xaxis.set_label_coords(0.53, 1.04)\n",
    "plt.gca()\n",
    "ax.plot(x_val, np.array(V_list)); "
   ]
  },
  {
   "cell_type": "code",
   "execution_count": 75,
   "metadata": {},
   "outputs": [
    {
     "name": "stdout",
     "output_type": "stream",
     "text": [
      "[-0.24912772 -0.45129513]\n"
     ]
    },
    {
     "data": {
      "image/png": "[encoded data removed]",
      "text/plain": [
       "<Figure size 864x432 with 1 Axes>"
      ]
     },
     "metadata": {
      "needs_background": "light"
     },
     "output_type": "display_data"
    }
   ],
   "source": [
    "x_val = np.linspace(0, 3*l/2, 301)\n",
    "N_numpy = sp.lambdify(x,N.subs(solutions).rewrite(sp.Piecewise).simplify()) \n",
    "N_list = N_numpy(x_val)\n",
    "\n",
    "print(N_list[200:202])\n",
    "\n",
    "fig = plt.figure(figsize=(12, 6))\n",
    "ax = fig.add_subplot(1, 1, 1)\n",
    "ax.set_xlim(0, 6)\n",
    "ax.set_ylim(-4, 12)\n",
    "\n",
    "ax.spines[\"left\"].set_position(\"zero\")\n",
    "ax.spines[\"right\"].set_visible(False)\n",
    "ax.spines[\"bottom\"].set_position(\"zero\")\n",
    "ax.spines[\"top\"].set_visible(False)\n",
    "\n",
    "ax.xaxis.set_label_coords(0.53, 1.04)\n",
    "plt.gca()\n",
    "ax.plot(x_val, np.array(N_list));"
   ]
  },
  {
   "cell_type": "markdown",
   "metadata": {},
   "source": [
    "### Iteratie 3"
   ]
  },
  {
   "cell_type": "code",
   "execution_count": 76,
   "metadata": {},
   "outputs": [],
   "source": [
    "Cv, Cm, Cphi, Cw, Av, Bv, MA, Ah, Cn= sp.symbols('C_v, C_m, C_phi, C_w, A_v, B_v, M_A, A_h, C_n')\n",
    "\n",
    "# Define qz and qx\n",
    "DwaL =  0.95313212\n",
    "DwaR =  0.90259026\n",
    "NorL = -0.24912772\n",
    "NorR = -0.45129513\n",
    "qz1 = sp.nsimplify(-Av * sf(x, 0, -1) + MA* sf(x, 0, -2) + F1 *sf(x, l/2, -1) + DwaL * sf(x, l, -1) * sp.cos(theta)- NorL * sf(x, l, -1) * sp.sin(theta))\n",
    "qz2 = sp.nsimplify(-Bv * sf(x, (3/2)*l, -1) + F2 *sf(x, (5/4)*l, -1) - DwaR *sf(x, l, -1)* sp.cos(alpha) + NorR * sf(x, l, -1)* sp.sin(alpha) )\n",
    "qx1 = sp.nsimplify(Ah * sf(x, 0, -1) + DwaL * sf(x, l, -1) * sp.sin(theta)  + NorL * sf(x, l, -1)* sp.cos(theta))\n",
    "qx2 = sp.nsimplify(-DwaR * sf(x, l, -1)*sp.sin(alpha) -NorR * sf(x, l, -1)* sp.cos(alpha))\n",
    "\n",
    "\n",
    "# Define V as a function of x\n",
    "## staaf 1\n",
    "V1 = sp.cos(theta) * sp.integrate( -qz1 , x)\n",
    "V2 = sp.integrate(- (sp.sin(theta) * sp.tan(theta) * qx1), x)\n",
    "## staaf 2\n",
    "V3 = sp.cos(alpha) * sp.integrate( -qz2 , x)\n",
    "V4 = sp.integrate(- (sp.sin(alpha) * sp.tan(alpha) * qx2), x)\n",
    "\n",
    "V =V1 + V2 + V3 + V4 + Cv\n",
    "\n",
    "# Define M as an integral of V\n",
    "## staaf 1\n",
    "M1 = sp.integrate( (V1  / sp.cos(theta)), x)\n",
    "M2 = sp.integrate( (V2  / sp.cos(theta)), x)\n",
    "## sfaaf 2\n",
    "M3 = sp.integrate((V3 / sp.cos(alpha)), x)\n",
    "M4 = sp.integrate((V4 / sp.cos(alpha)), x)\n",
    "M  = M1 + M2 + M3+ M4 + Cm\n",
    "\n",
    "# Define phi as an integral of M\n",
    "phi = sp.integrate(M, x) + Cphi\n",
    "\n",
    "# Define W as an integral of -phi\n",
    "W = sp.integrate(-phi, x) + Cw\n",
    "\n",
    "N1 = sp.integrate(sp.sin(theta) * (-qx1 + qz1), x) + Cn\n",
    "N2 = sp.integrate(sp.sin(alpha) * (-qx2 + qz2), x) \n",
    "N = N1+ N2 + Cn"
   ]
  },
  {
   "cell_type": "code",
   "execution_count": 77,
   "metadata": {},
   "outputs": [
    {
     "data": {
      "text/plain": [
       "{C_v: 0.0,\n",
       " C_m: 0.0,\n",
       " C_phi: 0.0,\n",
       " C_w: 0.0,\n",
       " A_v: 10.9840850145227,\n",
       " B_v: 8.99190939177049,\n",
       " M_A: 15.9502774939007,\n",
       " C_n: 0.0,\n",
       " A_h: 0.00962195189033341}"
      ]
     },
     "metadata": {},
     "output_type": "display_data"
    }
   ],
   "source": [
    "eq1 = V.subs(x, -1)\n",
    "eq2 = M.subs(x, -1)\n",
    "eq3 = V.subs(x, (3/2)*l + 1)\n",
    "eq4 = phi.subs(x, 0)\n",
    "eq5 = W.subs(x, 0)\n",
    "eq6 = M.subs(x, (3/2)*l)\n",
    "eq7 = W.subs(x, (3/2)*l)\n",
    "eq8 = N.subs(x, -0.01)\n",
    "eq9 = N.subs(x, ((3/2)*l) +1 )\n",
    "equations = [eq1-0, eq2-0, eq3-0, eq4-0, eq5-0, eq6-0, eq7 -0, eq8-0, eq9-0]\n",
    "solutions = sp.solve(equations, (Cv, Cm, Cphi, Cw, Av, Bv, MA, Cn, Ah))\n",
    "display(solutions)"
   ]
  },
  {
   "cell_type": "code",
   "execution_count": 78,
   "metadata": {},
   "outputs": [
    {
     "name": "stdout",
     "output_type": "stream",
     "text": [
      "[0.95411928 0.90166365]\n"
     ]
    },
    {
     "data": {
      "image/png": "[encoded data removed]",
      "text/plain": [
       "<Figure size 864x432 with 1 Axes>"
      ]
     },
     "metadata": {
      "needs_background": "light"
     },
     "output_type": "display_data"
    }
   ],
   "source": [
    "x_val = np.linspace(0, 3*l/2, 301)\n",
    "V_numpy = sp.lambdify(x,V.subs(solutions).rewrite(sp.Piecewise).simplify()) \n",
    "V_list = V_numpy(x_val)\n",
    "print(V_list[200:202]) \n",
    "\n",
    "fig = plt.figure(figsize=(12, 6))\n",
    "ax = fig.add_subplot(1, 1, 1)\n",
    "ax.set_xlim(0, 6)\n",
    "ax.set_ylim(-9, 12)\n",
    "\n",
    "ax.spines[\"left\"].set_position(\"zero\")\n",
    "ax.spines[\"right\"].set_visible(False)\n",
    "ax.spines[\"bottom\"].set_position(\"zero\")\n",
    "ax.spines[\"top\"].set_visible(False)\n",
    "\n",
    "ax.xaxis.set_label_coords(0.53, 1.04)\n",
    "plt.gca()\n",
    "ax.plot(x_val, np.array(V_list)); "
   ]
  },
  {
   "cell_type": "code",
   "execution_count": 79,
   "metadata": {},
   "outputs": [
    {
     "name": "stdout",
     "output_type": "stream",
     "text": [
      "[-0.24100934 -0.45083183]\n"
     ]
    },
    {
     "data": {
      "image/png": "[encoded data removed]",
      "text/plain": [
       "<Figure size 864x432 with 1 Axes>"
      ]
     },
     "metadata": {
      "needs_background": "light"
     },
     "output_type": "display_data"
    }
   ],
   "source": [
    "x_val = np.linspace(0, 3*l/2, 301)\n",
    "N_numpy = sp.lambdify(x,N.subs(solutions).rewrite(sp.Piecewise).simplify()) \n",
    "N_list = N_numpy(x_val)\n",
    "\n",
    "print(N_list[200:202])\n",
    "\n",
    "fig = plt.figure(figsize=(12, 6))\n",
    "ax = fig.add_subplot(1, 1, 1)\n",
    "ax.set_xlim(0, 6)\n",
    "ax.set_ylim(-4, 12)\n",
    "\n",
    "ax.spines[\"left\"].set_position(\"zero\")\n",
    "ax.spines[\"right\"].set_visible(False)\n",
    "ax.spines[\"bottom\"].set_position(\"zero\")\n",
    "ax.spines[\"top\"].set_visible(False)\n",
    "\n",
    "ax.xaxis.set_label_coords(0.53, 1.04)\n",
    "plt.gca()\n",
    "ax.plot(x_val, np.array(N_list));"
   ]
  },
  {
   "cell_type": "markdown",
   "metadata": {},
   "source": [
    "### Iteratie 4"
   ]
  },
  {
   "cell_type": "code",
   "execution_count": 80,
   "metadata": {},
   "outputs": [],
   "source": [
    "Cv, Cm, Cphi, Cw, Av, Bv, MA, Ah, Cn= sp.symbols('C_v, C_m, C_phi, C_w, A_v, B_v, M_A, A_h, C_n')\n",
    "\n",
    "# Define qz and qx\n",
    "DwaL =  0.95411928\n",
    "DwaR =  0.90166365\n",
    "NorL = -0.24100934\n",
    "NorR = -0.45083183\n",
    "qz1 = sp.nsimplify(-Av * sf(x, 0, -1) + MA* sf(x, 0, -2) + F1 *sf(x, l/2, -1) + DwaL * sf(x, l, -1) * sp.cos(theta)- NorL * sf(x, l, -1) * sp.sin(theta))\n",
    "qz2 = sp.nsimplify(-Bv * sf(x, (3/2)*l, -1) + F2 *sf(x, (5/4)*l, -1) - DwaR *sf(x, l, -1)* sp.cos(alpha) + NorR * sf(x, l, -1)* sp.sin(alpha) )\n",
    "qx1 = sp.nsimplify(Ah * sf(x, 0, -1) + DwaL * sf(x, l, -1) * sp.sin(theta)  + NorL * sf(x, l, -1)* sp.cos(theta))\n",
    "qx2 = sp.nsimplify(-DwaR * sf(x, l, -1)*sp.sin(alpha) -NorR * sf(x, l, -1)* sp.cos(alpha))\n",
    "\n",
    "\n",
    "# Define V as a function of x\n",
    "## staaf 1\n",
    "V1 = sp.cos(theta) * sp.integrate( -qz1 , x)\n",
    "V2 = sp.integrate(- (sp.sin(theta) * sp.tan(theta) * qx1), x)\n",
    "## staaf 2\n",
    "V3 = sp.cos(alpha) * sp.integrate( -qz2 , x)\n",
    "V4 = sp.integrate(- (sp.sin(alpha) * sp.tan(alpha) * qx2), x)\n",
    "\n",
    "V =V1 + V2 + V3 + V4 + Cv\n",
    "\n",
    "# Define M as an integral of V\n",
    "## staaf 1\n",
    "M1 = sp.integrate( (V1  / sp.cos(theta)), x)\n",
    "M2 = sp.integrate( (V2  / sp.cos(theta)), x)\n",
    "## sfaaf 2\n",
    "M3 = sp.integrate((V3 / sp.cos(alpha)), x)\n",
    "M4 = sp.integrate((V4 / sp.cos(alpha)), x)\n",
    "M  = M1 + M2 + M3+ M4 + Cm\n",
    "\n",
    "# Define phi as an integral of M\n",
    "phi = sp.integrate(M, x) + Cphi\n",
    "\n",
    "# Define W as an integral of -phi\n",
    "W = sp.integrate(-phi, x) + Cw\n",
    "\n",
    "N1 = sp.integrate(sp.sin(theta) * (-qx1 + qz1), x) + Cn\n",
    "N2 = sp.integrate(sp.sin(alpha) * (-qx2 + qz2), x) \n",
    "N = N1 + N2 + Cn"
   ]
  },
  {
   "cell_type": "code",
   "execution_count": 81,
   "metadata": {},
   "outputs": [
    {
     "data": {
      "text/plain": [
       "{C_v: 0.0,\n",
       " C_m: 0.0,\n",
       " C_phi: 0.0,\n",
       " C_w: 0.0,\n",
       " A_v: 10.9838786097141,\n",
       " B_v: 8.99212083108564,\n",
       " M_A: 15.9507502786053,\n",
       " C_n: 0.0,\n",
       " A_h: 0.00222200751313955}"
      ]
     },
     "metadata": {},
     "output_type": "display_data"
    }
   ],
   "source": [
    "eq1 = V.subs(x, -1)\n",
    "eq2 = M.subs(x, -1)\n",
    "eq3 = V.subs(x, (3/2)*l + 1)\n",
    "eq4 = phi.subs(x, 0)\n",
    "eq5 = W.subs(x, 0)\n",
    "eq6 = M.subs(x, (3/2)*l)\n",
    "eq7 = W.subs(x, (3/2)*l)\n",
    "eq8 = N.subs(x, -0.01)\n",
    "eq9 = N.subs(x, ((3/2)*l) +1 )\n",
    "equations = [eq1-0, eq2-0, eq3-0, eq4-0, eq5-0, eq6-0, eq7 -0, eq8-0, eq9-0]\n",
    "solutions = sp.solve(equations, (Cv, Cm, Cphi, Cw, Av, Bv, MA, Cn, Ah))\n",
    "display(solutions)"
   ]
  },
  {
   "cell_type": "code",
   "execution_count": 82,
   "metadata": {},
   "outputs": [
    {
     "name": "stdout",
     "output_type": "stream",
     "text": [
      "[0.95436773 0.90147453]\n"
     ]
    },
    {
     "data": {
      "image/png": "[encoded data removed]",
      "text/plain": [
       "<Figure size 864x432 with 1 Axes>"
      ]
     },
     "metadata": {
      "needs_background": "light"
     },
     "output_type": "display_data"
    }
   ],
   "source": [
    "x_val = np.linspace(0, 3*l/2, 301)\n",
    "V_numpy = sp.lambdify(x,V.subs(solutions).rewrite(sp.Piecewise).simplify()) \n",
    "V_list = V_numpy(x_val)\n",
    "print(V_list[200:202]) \n",
    "\n",
    "fig = plt.figure(figsize=(12, 6))\n",
    "ax = fig.add_subplot(1, 1, 1)\n",
    "ax.set_xlim(0, 6)\n",
    "ax.set_ylim(-9, 12)\n",
    "\n",
    "ax.spines[\"left\"].set_position(\"zero\")\n",
    "ax.spines[\"right\"].set_visible(False)\n",
    "ax.spines[\"bottom\"].set_position(\"zero\")\n",
    "ax.spines[\"top\"].set_visible(False)\n",
    "\n",
    "ax.xaxis.set_label_coords(0.53, 1.04)\n",
    "plt.gca()\n",
    "ax.plot(x_val, np.array(V_list)); "
   ]
  },
  {
   "cell_type": "code",
   "execution_count": 83,
   "metadata": {},
   "outputs": [
    {
     "name": "stdout",
     "output_type": "stream",
     "text": [
      "[-0.23916453 -0.45073727]\n"
     ]
    },
    {
     "data": {
      "image/png": "[encoded data removed]",
      "text/plain": [
       "<Figure size 864x432 with 1 Axes>"
      ]
     },
     "metadata": {
      "needs_background": "light"
     },
     "output_type": "display_data"
    }
   ],
   "source": [
    "x_val = np.linspace(0, 3*l/2, 301)\n",
    "N_numpy = sp.lambdify(x,N.subs(solutions).rewrite(sp.Piecewise).simplify()) \n",
    "N_list = N_numpy(x_val)\n",
    "\n",
    "print(N_list[200:202])\n",
    "\n",
    "fig = plt.figure(figsize=(12, 6))\n",
    "ax = fig.add_subplot(1, 1, 1)\n",
    "ax.set_xlim(0, 6)\n",
    "ax.set_ylim(-4, 12)\n",
    "\n",
    "ax.spines[\"left\"].set_position(\"zero\")\n",
    "ax.spines[\"right\"].set_visible(False)\n",
    "ax.spines[\"bottom\"].set_position(\"zero\")\n",
    "ax.spines[\"top\"].set_visible(False)\n",
    "\n",
    "ax.xaxis.set_label_coords(0.53, 1.04)\n",
    "plt.gca()\n",
    "ax.plot(x_val, np.array(N_list));"
   ]
  },
  {
   "cell_type": "markdown",
   "metadata": {},
   "source": [
    "### Iteratie 5"
   ]
  },
  {
   "cell_type": "code",
   "execution_count": 84,
   "metadata": {},
   "outputs": [],
   "source": [
    "Cv, Cm, Cphi, Cw, Av, Bv, MA, Ah, Cn= sp.symbols('C_v, C_m, C_phi, C_w, A_v, B_v, M_A, A_h, C_n')\n",
    "\n",
    "# Define qz and qx\n",
    "DwaL =  0.95436773\n",
    "DwaR =  0.90147453\n",
    "NorL = -0.23916453\n",
    "NorR = -0.45073727\n",
    "qz1 = sp.nsimplify(-Av * sf(x, 0, -1) + MA* sf(x, 0, -2) + F1 *sf(x, l/2, -1) + DwaL * sf(x, l, -1) * sp.cos(theta)- NorL * sf(x, l, -1) * sp.sin(theta))\n",
    "qz2 = sp.nsimplify(-Bv * sf(x, (3/2)*l, -1) + F2 *sf(x, (5/4)*l, -1) - DwaR *sf(x, l, -1)* sp.cos(alpha) + NorR * sf(x, l, -1)* sp.sin(alpha) )\n",
    "qx1 = sp.nsimplify(Ah * sf(x, 0, -1) + DwaL * sf(x, l, -1) * sp.sin(theta)  + NorL * sf(x, l, -1)* sp.cos(theta))\n",
    "qx2 = sp.nsimplify(-DwaR * sf(x, l, -1)*sp.sin(alpha) -NorR * sf(x, l, -1)* sp.cos(alpha))\n",
    "\n",
    "\n",
    "# Define V as a function of x\n",
    "## staaf 1\n",
    "V1 = sp.cos(theta) * sp.integrate( -qz1 , x)\n",
    "V2 = sp.integrate(- (sp.sin(theta) * sp.tan(theta) * qx1), x)\n",
    "## staaf 2\n",
    "V3 = sp.cos(alpha) * sp.integrate( -qz2 , x)\n",
    "V4 = sp.integrate(- (sp.sin(alpha) * sp.tan(alpha) * qx2), x)\n",
    "\n",
    "V =V1 + V2 + V3 + V4 + Cv\n",
    "\n",
    "# Define M as an integral of V\n",
    "## staaf 1\n",
    "M1 = sp.integrate( (V1  / sp.cos(theta)), x)\n",
    "M2 = sp.integrate( (V2  / sp.cos(theta)), x)\n",
    "## sfaaf 2\n",
    "M3 = sp.integrate((V3 / sp.cos(alpha)), x)\n",
    "M4 = sp.integrate((V4 / sp.cos(alpha)), x)\n",
    "M  = M1 + M2 + M3+ M4 + Cm\n",
    "\n",
    "# Define phi as an integral of M\n",
    "phi = sp.integrate(M, x) + Cphi\n",
    "\n",
    "# Define W as an integral of -phi\n",
    "W = sp.integrate(-phi, x) + Cw\n",
    "\n",
    "N1 = sp.integrate(sp.sin(theta) * (-qx1 + qz1), x) + Cn\n",
    "N2 = sp.integrate(sp.sin(alpha) * (-qx2 + qz2), x) \n",
    "N = N1 + N2 + Cn"
   ]
  },
  {
   "cell_type": "code",
   "execution_count": 85,
   "metadata": {},
   "outputs": [
    {
     "data": {
      "text/plain": [
       "{C_v: 0.0,\n",
       " C_m: 0.0,\n",
       " C_phi: 0.0,\n",
       " C_w: 0.0,\n",
       " A_v: 10.9838298415814,\n",
       " B_v: 8.99217079631337,\n",
       " M_A: 15.9508575377216,\n",
       " C_n: 0.0,\n",
       " A_h: 0.000512138382148610}"
      ]
     },
     "metadata": {},
     "output_type": "display_data"
    }
   ],
   "source": [
    "eq1 = V.subs(x, -1)\n",
    "eq2 = M.subs(x, -1)\n",
    "eq3 = V.subs(x, (3/2)*l + 1)\n",
    "eq4 = phi.subs(x, 0)\n",
    "eq5 = W.subs(x, 0)\n",
    "eq6 = M.subs(x, (3/2)*l)\n",
    "eq7 = W.subs(x, (3/2)*l)\n",
    "eq8 = N.subs(x, -0.01)\n",
    "eq9 = N.subs(x, ((3/2)*l) +1 )\n",
    "equations = [eq1-0, eq2-0, eq3-0, eq4-0, eq5-0, eq6-0, eq7 -0, eq8-0, eq9-0]\n",
    "solutions = sp.solve(equations, (Cv, Cm, Cphi, Cw, Av, Bv, MA, Cn, Ah))\n",
    "display(solutions)"
   ]
  },
  {
   "cell_type": "code",
   "execution_count": 86,
   "metadata": {},
   "outputs": [
    {
     "name": "stdout",
     "output_type": "stream",
     "text": [
      "[0.95442409 0.90142984]\n"
     ]
    },
    {
     "data": {
      "image/png": "[encoded data removed]",
      "text/plain": [
       "<Figure size 864x432 with 1 Axes>"
      ]
     },
     "metadata": {
      "needs_background": "light"
     },
     "output_type": "display_data"
    }
   ],
   "source": [
    "x_val = np.linspace(0, 3*l/2, 301)\n",
    "V_numpy = sp.lambdify(x,V.subs(solutions).rewrite(sp.Piecewise).simplify()) \n",
    "V_list = V_numpy(x_val)\n",
    "print(V_list[200:202]) \n",
    "\n",
    "fig = plt.figure(figsize=(12, 6))\n",
    "ax = fig.add_subplot(1, 1, 1)\n",
    "ax.set_xlim(0, 6)\n",
    "ax.set_ylim(-9, 12)\n",
    "ax.set_xlabel(\"$V-lijn$\")\n",
    "ax.spines[\"left\"].set_position(\"zero\")\n",
    "ax.spines[\"right\"].set_visible(False)\n",
    "ax.spines[\"bottom\"].set_position(\"zero\")\n",
    "ax.spines[\"top\"].set_visible(False)\n",
    "\n",
    "ax.xaxis.set_label_coords(0.53, 1.04)\n",
    "plt.gca()\n",
    "ax.plot(x_val, np.array(V_list))\n",
    "plt.savefig('V_lijnvoorbeeld4', dpi=450);"
   ]
  },
  {
   "cell_type": "code",
   "execution_count": 87,
   "metadata": {},
   "outputs": [
    {
     "name": "stdout",
     "output_type": "stream",
     "text": [
      "[-0.238738   -0.45071492]\n"
     ]
    },
    {
     "data": {
      "image/png": "[encoded data removed]",
      "text/plain": [
       "<Figure size 864x432 with 1 Axes>"
      ]
     },
     "metadata": {
      "needs_background": "light"
     },
     "output_type": "display_data"
    }
   ],
   "source": [
    "x_val = np.linspace(0, 3*l/2, 301)\n",
    "N_numpy = sp.lambdify(x,N.subs(solutions).rewrite(sp.Piecewise).simplify()) \n",
    "N_list = N_numpy(x_val)\n",
    "\n",
    "print(N_list[200:202])\n",
    "\n",
    "fig = plt.figure(figsize=(12, 6))\n",
    "ax = fig.add_subplot(1, 1, 1)\n",
    "ax.set_xlim(0, 6)\n",
    "ax.set_ylim(-4, 12)\n",
    "ax.set_xlabel(\"$N-lijn$\")\n",
    "ax.spines[\"left\"].set_position(\"zero\")\n",
    "ax.spines[\"right\"].set_visible(False)\n",
    "ax.spines[\"bottom\"].set_position(\"zero\")\n",
    "ax.spines[\"top\"].set_visible(False)\n",
    "\n",
    "ax.xaxis.set_label_coords(0.53, 1.04)\n",
    "plt.gca()\n",
    "ax.plot(x_val, np.array(N_list))\n",
    "plt.savefig('N_lijnvoorbeeld4', dpi=450);"
   ]
  },
  {
   "cell_type": "code",
   "execution_count": 88,
   "metadata": {},
   "outputs": [],
   "source": [
    "x_val1 = np.linspace(0, l, 301)\n",
    "M_numpy1 = sp.lambdify(x,M.subs(solutions).rewrite(sp.Piecewise).simplify()) \n",
    "M_list1 = M_numpy1(x_val1)\n",
    "\n",
    "x_val2 = np.linspace(l, 3*l/2, 301)\n",
    "M_numpy2 = sp.lambdify(x,M.subs(solutions).rewrite(sp.Piecewise).simplify()) \n",
    "M_list2 = M_numpy2(x_val2)"
   ]
  },
  {
   "cell_type": "code",
   "execution_count": 89,
   "metadata": {},
   "outputs": [
    {
     "data": {
      "text/plain": [
       "''"
      ]
     },
     "execution_count": 89,
     "metadata": {},
     "output_type": "execute_result"
    },
    {
     "data": {
      "image/png": "[encoded data removed]",
      "text/plain": [
       "<Figure size 720x360 with 1 Axes>"
      ]
     },
     "metadata": {
      "needs_background": "light"
     },
     "output_type": "display_data"
    }
   ],
   "source": [
    "fig = plt.figure(figsize=(10, 5))\n",
    "ax = fig.add_subplot(1, 1, 1)\n",
    "ax.set_xlim(0, 6.8)\n",
    "ax.set_ylim(-12, 16)\n",
    "\n",
    "ax.spines[\"left\"].set_position(\"zero\")\n",
    "ax.spines[\"right\"].set_visible(False)\n",
    "ax.spines[\"bottom\"].set_position(\"zero\")\n",
    "ax.spines[\"top\"].set_visible(False)\n",
    "\n",
    "\n",
    "ax.set_xlabel(\"$M-lijn$\")\n",
    "ax.xaxis.set_label_coords(0.53, 1.04)\n",
    "plt.gca()\n",
    "ax.plot(x_val1,  -np.array(M_list1) , label='M-lijn')\n",
    "ax.plot(x_val2,  -np.array(M_list2) , label='M-lijn');\n",
    "plt.savefig('M_lijnvoorbeeld4', dpi=450)\n",
    ";"
   ]
  },
  {
   "cell_type": "code",
   "execution_count": 90,
   "metadata": {},
   "outputs": [],
   "source": [
    "x_val = np.linspace(0, 3*l/2, 901)\n",
    "phi_numpy = sp.lambdify(x,phi.subs(solutions).rewrite(sp.Piecewise).simplify()) #substitute full solution, make python function of formula\n",
    "phi_list = phi_numpy(x_val)"
   ]
  },
  {
   "cell_type": "code",
   "execution_count": 91,
   "metadata": {},
   "outputs": [
    {
     "data": {
      "image/png": "[encoded data removed]",
      "text/plain": [
       "<Figure size 720x360 with 1 Axes>"
      ]
     },
     "metadata": {
      "needs_background": "light"
     },
     "output_type": "display_data"
    }
   ],
   "source": [
    "fig = plt.figure(figsize=(10, 5))\n",
    "ax = fig.add_subplot(1, 1, 1)\n",
    "ax.set_xlim(0, 6)\n",
    "ax.set_ylim(-15, 20)\n",
    "\n",
    "ax.spines[\"left\"].set_position(\"zero\")\n",
    "ax.spines[\"right\"].set_visible(False)\n",
    "ax.spines[\"bottom\"].set_position(\"zero\")\n",
    "ax.spines[\"top\"].set_visible(False)\n",
    "\n",
    "\n",
    "ax.set_xlabel(\"$phi*EI-lijn$\")\n",
    "ax.xaxis.set_label_coords(0.53, 1.04)\n",
    "plt.gca()\n",
    "ax.plot(x_val/sp.cos(theta), np.array(phi_list) , label='phi-lijn')\n",
    "plt.savefig('phi_lijnvoorbeeld4', dpi=450);"
   ]
  },
  {
   "cell_type": "code",
   "execution_count": 92,
   "metadata": {},
   "outputs": [],
   "source": [
    "x_val = np.linspace(0, 3*l/2, 901)\n",
    "W_numpy = sp.lambdify(x,W.subs(solutions).rewrite(sp.Piecewise).simplify())\n",
    "W_list = W_numpy(x_val)"
   ]
  },
  {
   "cell_type": "code",
   "execution_count": 93,
   "metadata": {},
   "outputs": [
    {
     "data": {
      "image/png": "[encoded data removed]",
      "text/plain": [
       "<Figure size 720x360 with 1 Axes>"
      ]
     },
     "metadata": {
      "needs_background": "light"
     },
     "output_type": "display_data"
    }
   ],
   "source": [
    "fig = plt.figure(figsize=(10, 5))\n",
    "ax = fig.add_subplot(1, 1, 1)\n",
    "ax.set_xlim(0, 6.5)\n",
    "ax.set_ylim(-30, 0)\n",
    "\n",
    "ax.spines[\"left\"].set_position(\"zero\")\n",
    "ax.spines[\"right\"].set_visible(False)\n",
    "ax.spines[\"bottom\"].set_position(\"zero\")\n",
    "ax.spines[\"top\"].set_visible(False)\n",
    "\n",
    "\n",
    "ax.set_xlabel(\"$EI * w-lijn$\")\n",
    "ax.xaxis.set_label_coords(0.53, 1.04)\n",
    "plt.gca()\n",
    "ax.plot(x_val, - np.array(W_list) , label='w-lijn')\n",
    "plt.savefig('w_lijnvoorbeeld4', dpi=450);"
   ]
  },
  {
   "cell_type": "code",
   "execution_count": 94,
   "metadata": {},
   "outputs": [
    {
     "name": "stdout",
     "output_type": "stream",
     "text": [
      "Solution in the x-direction:\n"
     ]
    },
    {
     "data": {
      "text/plain": [
       "'dV/dx ='"
      ]
     },
     "metadata": {},
     "output_type": "display_data"
    },
    {
     "data": {
      "text/latex": [
       "$\\displaystyle - qx \\sin{\\left(\\theta \\right)} \\tan{\\left(\\theta \\right)} - qz \\cos{\\left(\\theta \\right)}$"
      ],
      "text/plain": [
       "-qx*sin(theta)*tan(theta) - qz*cos(theta)"
      ]
     },
     "metadata": {},
     "output_type": "display_data"
    },
    {
     "data": {
      "text/plain": [
       "'dN/dx ='"
      ]
     },
     "metadata": {},
     "output_type": "display_data"
    },
    {
     "data": {
      "text/latex": [
       "$\\displaystyle \\left(- qx + qz\\right) \\sin{\\left(\\theta \\right)}$"
      ],
      "text/plain": [
       "(-qx + qz)*sin(theta)"
      ]
     },
     "metadata": {},
     "output_type": "display_data"
    }
   ],
   "source": [
    "## het oplossen van differentiaal vergelijking\n",
    "## in x-richting\n",
    "# Define the symbols\n",
    "cv, cn, qx, qz, theta = sp.symbols('cv, cn, qx, qz, theta')  ## cv = dv/dx, cn = dn/dx\n",
    "\n",
    "# Define the equations\n",
    "eq1 = (qx* sp.tan(theta)) + (sp.sin(theta) * cv) + (sp.cos(theta) * cn)\n",
    "eq2 = (qz) + (sp.cos(theta) * cv) - (sp.sin(theta) * cn)\n",
    "\n",
    "# Solve the system of equations\n",
    "solution = sp.solve((eq1, eq2), (cv, cn))\n",
    "\n",
    "# Display the solution\n",
    "print(\"Solution in the x-direction:\")\n",
    "display(\"dV/dx =\", solution[cv])\n",
    "display(\"dN/dx =\", solution[cn])"
   ]
  },
  {
   "cell_type": "code",
   "execution_count": null,
   "metadata": {},
   "outputs": [],
   "source": []
  }
 ],
 "metadata": {
  "kernelspec": {
   "display_name": "Python 3",
   "language": "python",
   "name": "python3"
  },
  "language_info": {
   "codemirror_mode": {
    "name": "ipython",
    "version": 3
   },
   "file_extension": ".py",
   "mimetype": "text/x-python",
   "name": "python",
   "nbconvert_exporter": "python",
   "pygments_lexer": "ipython3",
   "version": "3.8.3"
  }
 },
 "nbformat": 4,
 "nbformat_minor": 4
}
